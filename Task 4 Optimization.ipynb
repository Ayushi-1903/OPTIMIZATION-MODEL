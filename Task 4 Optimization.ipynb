{
 "cells": [
  {
   "cell_type": "markdown",
   "id": "c816ccef",
   "metadata": {},
   "source": [
    "Name:Ayushi Verma"
   ]
  },
  {
   "cell_type": "raw",
   "id": "8926c564",
   "metadata": {},
   "source": [
    "#  Installs the pulp library for linear programming and matplotlib for plotting."
   ]
  },
  {
   "cell_type": "code",
   "execution_count": 64,
   "id": "f864944e",
   "metadata": {},
   "outputs": [
    {
     "name": "stdout",
     "output_type": "stream",
     "text": [
      "Defaulting to user installation because normal site-packages is not writeable\n",
      "Requirement already satisfied: pulp in c:\\users\\ayushi verma\\appdata\\roaming\\python\\python39\\site-packages (3.1.1)\n",
      "Requirement already satisfied: matplotlib in c:\\programdata\\anaconda3\\lib\\site-packages (3.5.1)\n",
      "Requirement already satisfied: packaging>=20.0 in c:\\programdata\\anaconda3\\lib\\site-packages (from matplotlib) (21.3)\n",
      "Requirement already satisfied: pyparsing>=2.2.1 in c:\\programdata\\anaconda3\\lib\\site-packages (from matplotlib) (3.0.4)\n",
      "Requirement already satisfied: numpy>=1.17 in c:\\users\\ayushi verma\\appdata\\roaming\\python\\python39\\site-packages (from matplotlib) (1.22.4)\n",
      "Requirement already satisfied: fonttools>=4.22.0 in c:\\programdata\\anaconda3\\lib\\site-packages (from matplotlib) (4.25.0)\n",
      "Requirement already satisfied: pillow>=6.2.0 in c:\\programdata\\anaconda3\\lib\\site-packages (from matplotlib) (9.0.1)\n",
      "Requirement already satisfied: cycler>=0.10 in c:\\programdata\\anaconda3\\lib\\site-packages (from matplotlib) (0.11.0)\n",
      "Requirement already satisfied: kiwisolver>=1.0.1 in c:\\programdata\\anaconda3\\lib\\site-packages (from matplotlib) (1.3.2)\n",
      "Requirement already satisfied: python-dateutil>=2.7 in c:\\programdata\\anaconda3\\lib\\site-packages (from matplotlib) (2.8.2)\n",
      "Requirement already satisfied: six>=1.5 in c:\\programdata\\anaconda3\\lib\\site-packages (from python-dateutil>=2.7->matplotlib) (1.16.0)\n"
     ]
    }
   ],
   "source": [
    "!pip install pulp matplotlib"
   ]
  },
  {
   "cell_type": "raw",
   "id": "8fb03dd0",
   "metadata": {},
   "source": [
    "# Imports necessary libraries: pandas for data manipulation, numpy for numerical operations, seaborn and matplotlib.pyplot for visualization, and pulp for optimization."
   ]
  },
  {
   "cell_type": "code",
   "execution_count": 65,
   "id": "4957f1cf",
   "metadata": {},
   "outputs": [],
   "source": [
    "import pandas as pd\n",
    "import numpy as np\n",
    "import seaborn as sns\n",
    "import matplotlib.pyplot as plt\n",
    "from pulp import LpProblem, LpVariable, lpSum, LpMaximize, LpStatus, value"
   ]
  },
  {
   "cell_type": "code",
   "execution_count": 66,
   "id": "d9daaa3f",
   "metadata": {},
   "outputs": [],
   "source": [
    "df = pd.read_csv(r\"C:\\Users\\Ayushi Verma\\Downloads\\products.csv\") "
   ]
  },
  {
   "cell_type": "code",
   "execution_count": 67,
   "id": "a071f1ae",
   "metadata": {},
   "outputs": [
    {
     "name": "stdout",
     "output_type": "stream",
     "text": [
      "Loaded dataset:\n"
     ]
    },
    {
     "data": {
      "text/html": [
       "<div>\n",
       "<style scoped>\n",
       "    .dataframe tbody tr th:only-of-type {\n",
       "        vertical-align: middle;\n",
       "    }\n",
       "\n",
       "    .dataframe tbody tr th {\n",
       "        vertical-align: top;\n",
       "    }\n",
       "\n",
       "    .dataframe thead th {\n",
       "        text-align: right;\n",
       "    }\n",
       "</style>\n",
       "<table border=\"1\" class=\"dataframe\">\n",
       "  <thead>\n",
       "    <tr style=\"text-align: right;\">\n",
       "      <th></th>\n",
       "      <th>product_id</th>\n",
       "      <th>product_name</th>\n",
       "      <th>aisle_id</th>\n",
       "      <th>department_id</th>\n",
       "      <th>price</th>\n",
       "    </tr>\n",
       "  </thead>\n",
       "  <tbody>\n",
       "    <tr>\n",
       "      <th>0</th>\n",
       "      <td>1</td>\n",
       "      <td>Chocolate Sandwich Cookies</td>\n",
       "      <td>61</td>\n",
       "      <td>19</td>\n",
       "      <td>12.56</td>\n",
       "    </tr>\n",
       "    <tr>\n",
       "      <th>1</th>\n",
       "      <td>2</td>\n",
       "      <td>All-Seasons Salt</td>\n",
       "      <td>104</td>\n",
       "      <td>13</td>\n",
       "      <td>28.86</td>\n",
       "    </tr>\n",
       "    <tr>\n",
       "      <th>2</th>\n",
       "      <td>3</td>\n",
       "      <td>Robust Golden Unsweetened Oolong Tea</td>\n",
       "      <td>94</td>\n",
       "      <td>7</td>\n",
       "      <td>25.67</td>\n",
       "    </tr>\n",
       "    <tr>\n",
       "      <th>3</th>\n",
       "      <td>4</td>\n",
       "      <td>Smart Ones Classic Favorites Mini Rigatoni Wit...</td>\n",
       "      <td>38</td>\n",
       "      <td>1</td>\n",
       "      <td>39.60</td>\n",
       "    </tr>\n",
       "    <tr>\n",
       "      <th>4</th>\n",
       "      <td>5</td>\n",
       "      <td>Green Chile Anytime Sauce</td>\n",
       "      <td>5</td>\n",
       "      <td>13</td>\n",
       "      <td>42.96</td>\n",
       "    </tr>\n",
       "  </tbody>\n",
       "</table>\n",
       "</div>"
      ],
      "text/plain": [
       "   product_id                                       product_name  aisle_id  \\\n",
       "0           1                         Chocolate Sandwich Cookies        61   \n",
       "1           2                                   All-Seasons Salt       104   \n",
       "2           3               Robust Golden Unsweetened Oolong Tea        94   \n",
       "3           4  Smart Ones Classic Favorites Mini Rigatoni Wit...        38   \n",
       "4           5                          Green Chile Anytime Sauce         5   \n",
       "\n",
       "   department_id  price  \n",
       "0             19  12.56  \n",
       "1             13  28.86  \n",
       "2              7  25.67  \n",
       "3              1  39.60  \n",
       "4             13  42.96  "
      ]
     },
     "execution_count": 67,
     "metadata": {},
     "output_type": "execute_result"
    }
   ],
   "source": [
    "print(\"Loaded dataset:\")\n",
    "df.head()"
   ]
  },
  {
   "cell_type": "code",
   "execution_count": 68,
   "id": "434fb88b",
   "metadata": {},
   "outputs": [
    {
     "name": "stdout",
     "output_type": "stream",
     "text": [
      "Index(['product_id', 'product_name', 'aisle_id', 'department_id', 'price'], dtype='object')\n"
     ]
    }
   ],
   "source": [
    "print(df.columns)"
   ]
  },
  {
   "cell_type": "raw",
   "id": "85f9cc1b",
   "metadata": {},
   "source": [
    "# Defines the maximum budget and calculates the unit cost as 60% of the product price."
   ]
  },
  {
   "cell_type": "code",
   "execution_count": 69,
   "id": "dae8b9c3",
   "metadata": {},
   "outputs": [],
   "source": [
    "max_budget = 500  \n",
    "unit_cost = df['price'] * 0.6"
   ]
  },
  {
   "cell_type": "raw",
   "id": "b69079d7",
   "metadata": {},
   "source": [
    "# Creates an LpProblem object to define the optimization problem with the name \"ProductSelection\" and sets the objective to maximize."
   ]
  },
  {
   "cell_type": "code",
   "execution_count": 70,
   "id": "593e15ab",
   "metadata": {},
   "outputs": [],
   "source": [
    "model = LpProblem(\"ProductSelection\", LpMaximize)"
   ]
  },
  {
   "cell_type": "raw",
   "id": "9aa46f91",
   "metadata": {},
   "source": [
    "# Creates binary variables x for each product to indicate whether it is selected (1) or not (0).\n",
    "# Sets the objective function to maximize the total profit, calculated as the sum of the prices of the selected products.\n",
    "# Adds a constraint to ensure that the total cost of the selected products does not exceed the maximum budget.\n",
    "# Solves the optimization problem"
   ]
  },
  {
   "cell_type": "code",
   "execution_count": 71,
   "id": "23281cf0",
   "metadata": {},
   "outputs": [],
   "source": [
    "x = {row['product_id']: LpVariable(f\"x_{row['product_id']}\", cat='Binary') for idx, row in df.iterrows()}\n"
   ]
  },
  {
   "cell_type": "code",
   "execution_count": 72,
   "id": "482cff7e",
   "metadata": {},
   "outputs": [],
   "source": [
    "model += lpSum([row['price'] * x[row['product_id']] for idx, row in df.iterrows()]), \"TotalProfit\"\n"
   ]
  },
  {
   "cell_type": "code",
   "execution_count": 73,
   "id": "0c57e6ea",
   "metadata": {},
   "outputs": [],
   "source": [
    "model += lpSum([unit_cost[idx] * x[row['product_id']] for idx, row in df.iterrows()]) <= max_budget, \"BudgetConstraint\""
   ]
  },
  {
   "cell_type": "code",
   "execution_count": 74,
   "id": "d242441f",
   "metadata": {},
   "outputs": [
    {
     "data": {
      "text/plain": [
       "1"
      ]
     },
     "execution_count": 74,
     "metadata": {},
     "output_type": "execute_result"
    }
   ],
   "source": [
    "model.solve()"
   ]
  },
  {
   "cell_type": "code",
   "execution_count": 75,
   "id": "e9f8ef2b",
   "metadata": {},
   "outputs": [
    {
     "name": "stdout",
     "output_type": "stream",
     "text": [
      "Status: Optimal\n"
     ]
    }
   ],
   "source": [
    "print(f\"Status: {LpStatus[model.status]}\")\n",
    "solution = []\n",
    "for idx, row in df.iterrows():\n",
    "    if x[row['product_id']].varValue == 1:\n",
    "        solution.append({\n",
    "            'ProductID': row['product_id'],\n",
    "            'ProductName': row['product_name'],\n",
    "            'Price': row['price']\n",
    "        })"
   ]
  },
  {
   "cell_type": "raw",
   "id": "fe30cade",
   "metadata": {},
   "source": [
    "# Converts the solution list into a DataFrame and prints the selected products and the total profit.Creates a pie chart to visualize the price distribution of the selected products."
   ]
  },
  {
   "cell_type": "code",
   "execution_count": 76,
   "id": "f6a6bbe7",
   "metadata": {},
   "outputs": [
    {
     "name": "stdout",
     "output_type": "stream",
     "text": [
      "\n",
      "Selected Products:\n",
      "    ProductID                                        ProductName  Price\n",
      "0          84                                         Lamb Shank  44.89\n",
      "1          90                                       Smorz Cereal  19.71\n",
      "2          92             Meat In The Middle Large Rawhide Chews  41.84\n",
      "3          93                        Uncured Cracked Pepper Beef  39.88\n",
      "4          97                        Organic Chamomile Lemon Tea  44.58\n",
      "5         109                             Grape Leaf Hummus Wrap  12.46\n",
      "6         168                            Halves & Pieces Walnuts  36.30\n",
      "7         516                             American Cheese Slices  39.94\n",
      "8         802                          Organic Super Berry Juice  17.96\n",
      "9         806                         100% Cranberry Juice Blend  31.75\n",
      "10        816                        Calcium Lime & Rust Remover  13.02\n",
      "11        849  Blueberry & Banana Tiny Fruits Freeze Dried Sn...  24.97\n",
      "12        860  Chicago Steak & Chop Cracked Pepper & Garlic B...  29.44\n",
      "13        880    Organic Smooth Move Chamomile Laxative Tea Bags  20.02\n",
      "14        889                                       Oatnut Bread  33.63\n",
      "15        893                            Vitamin E Oil 45,000 IU  37.18\n",
      "16        902     Baked Rice Crisps, Sour Cream & Wasabi, Medium  27.13\n",
      "17        912                   Mushroom Stems & Pieces in Water  31.83\n",
      "18        922                Chipotle & Roasted Garlic Seasoning  21.21\n",
      "19        935                                Premium Apple Juice  26.42\n",
      "20        945                            Fruit Punch Juice Drink  19.99\n",
      "21        949                      Sensitive Shave Gel with Aloe  39.94\n",
      "22        953                              Plain Fat Free Yogurt  35.06\n",
      "23        964                                         Toothpicks  38.12\n",
      "24        966                                    Pear Hard Cider  27.41\n",
      "25        974               Organic 54% Cocoa Dark Chocolate Bar  19.13\n",
      "26        976        Cavity Protection Regular Flavor Toothpaste  19.07\n",
      "27        983                             Strawberry Pomegranate  20.97\n",
      "28        997               Mini Double Chocolate Ice Cream Bars  19.48\n",
      "\n",
      "Total Profit (Price Sum): 833.3299999999999\n"
     ]
    }
   ],
   "source": [
    "solution_df = pd.DataFrame(solution)\n",
    "print(\"\\nSelected Products:\")\n",
    "print(solution_df)\n",
    "\n",
    "print(f\"\\nTotal Profit (Price Sum): {value(model.objective)}\")"
   ]
  },
  {
   "cell_type": "code",
   "execution_count": 77,
   "id": "918c7c76",
   "metadata": {},
   "outputs": [
    {
     "name": "stderr",
     "output_type": "stream",
     "text": [
      "C:\\Users\\Ayushi Verma\\AppData\\Local\\Temp\\ipykernel_22868\\2740623470.py:6: UserWarning:\n",
      "\n",
      "Tight layout not applied. The bottom and top margins cannot be made large enough to accommodate all axes decorations.\n",
      "\n"
     ]
    },
    {
     "data": {
      "image/png": "[encoded data removed]",
      "text/plain": [
       "<Figure size 432x288 with 1 Axes>"
      ]
     },
     "metadata": {
      "needs_background": "light"
     },
     "output_type": "display_data"
    }
   ],
   "source": [
    "plt.bar(solution_df['ProductName'], solution_df['Price'], color='green')\n",
    "plt.xticks(rotation=90)\n",
    "plt.title('Selected Products and Their Prices')\n",
    "plt.xlabel('Product Name')\n",
    "plt.ylabel('Price')\n",
    "plt.tight_layout()\n",
    "plt.show()"
   ]
  },
  {
   "cell_type": "code",
   "execution_count": 78,
   "id": "6c786dac",
   "metadata": {},
   "outputs": [
    {
     "data": {
      "image/png": "[encoded data removed]",
      "text/plain": [
       "<Figure size 720x360 with 1 Axes>"
      ]
     },
     "metadata": {
      "needs_background": "light"
     },
     "output_type": "display_data"
    }
   ],
   "source": [
    "plt.figure(figsize=(10, 5))\n",
    "plt.scatter(solution_df['ProductID'], solution_df['Price'], c='blue', alpha=0.6)\n",
    "plt.title('Scatter Plot: Product ID vs Price')\n",
    "plt.xlabel('Product ID')\n",
    "plt.ylabel('Price')\n",
    "plt.tight_layout()\n",
    "plt.show()\n"
   ]
  },
  {
   "cell_type": "code",
   "execution_count": 79,
   "id": "9dca21b7",
   "metadata": {},
   "outputs": [
    {
     "data": {
      "image/png": "[encoded data removed]",
      "text/plain": [
       "<Figure size 720x360 with 1 Axes>"
      ]
     },
     "metadata": {
      "needs_background": "light"
     },
     "output_type": "display_data"
    }
   ],
   "source": [
    "sorted_df = solution_df.sort_values('ProductID')\n",
    "plt.figure(figsize=(10, 5))\n",
    "plt.plot(sorted_df['ProductID'], sorted_df['Price'], marker='o', linestyle='-')\n",
    "plt.title('Line Plot: Product ID vs Price')\n",
    "plt.xlabel('Product ID')\n",
    "plt.ylabel('Price')\n",
    "plt.tight_layout()\n",
    "plt.show()"
   ]
  },
  {
   "cell_type": "code",
   "execution_count": 80,
   "id": "e5bfdea2",
   "metadata": {},
   "outputs": [],
   "source": [
    "solution = []\n",
    "for idx, row in df.iterrows():\n",
    "    var_value = x[row['product_id']].varValue or 0\n",
    "    solution.append({\n",
    "        'ProductID': row['product_id'],\n",
    "        'ProductName': row['product_name'],\n",
    "        'Price': row['price'],\n",
    "        'Selected': int(round(var_value))\n",
    "    })\n",
    "solution_df = pd.DataFrame(solution)\n",
    "selected_df = solution_df[solution_df['Selected'] == 1]\n",
    "\n"
   ]
  },
  {
   "cell_type": "code",
   "execution_count": 81,
   "id": "dae1d0d5",
   "metadata": {},
   "outputs": [
    {
     "name": "stdout",
     "output_type": "stream",
     "text": [
      "Optimization Status: Optimal\n",
      "Total Profit: 833.3299999999999\n",
      "Budget Used: 499.998 / 500\n",
      "\n",
      "Selected Products:\n",
      "      ProductID                                        ProductName  Price\n",
      "83          84                                         Lamb Shank  44.89\n",
      "89          90                                       Smorz Cereal  19.71\n",
      "91          92             Meat In The Middle Large Rawhide Chews  41.84\n",
      "92          93                        Uncured Cracked Pepper Beef  39.88\n",
      "96          97                        Organic Chamomile Lemon Tea  44.58\n",
      "108        109                             Grape Leaf Hummus Wrap  12.46\n",
      "167        168                            Halves & Pieces Walnuts  36.30\n",
      "515        516                             American Cheese Slices  39.94\n",
      "801        802                          Organic Super Berry Juice  17.96\n",
      "805        806                         100% Cranberry Juice Blend  31.75\n",
      "815        816                        Calcium Lime & Rust Remover  13.02\n",
      "848        849  Blueberry & Banana Tiny Fruits Freeze Dried Sn...  24.97\n",
      "859        860  Chicago Steak & Chop Cracked Pepper & Garlic B...  29.44\n",
      "879        880    Organic Smooth Move Chamomile Laxative Tea Bags  20.02\n",
      "888        889                                       Oatnut Bread  33.63\n",
      "892        893                            Vitamin E Oil 45,000 IU  37.18\n",
      "901        902     Baked Rice Crisps, Sour Cream & Wasabi, Medium  27.13\n",
      "911        912                   Mushroom Stems & Pieces in Water  31.83\n",
      "921        922                Chipotle & Roasted Garlic Seasoning  21.21\n",
      "934        935                                Premium Apple Juice  26.42\n",
      "944        945                            Fruit Punch Juice Drink  19.99\n",
      "948        949                      Sensitive Shave Gel with Aloe  39.94\n",
      "952        953                              Plain Fat Free Yogurt  35.06\n",
      "963        964                                         Toothpicks  38.12\n",
      "965        966                                    Pear Hard Cider  27.41\n",
      "973        974               Organic 54% Cocoa Dark Chocolate Bar  19.13\n",
      "975        976        Cavity Protection Regular Flavor Toothpaste  19.07\n",
      "982        983                             Strawberry Pomegranate  20.97\n",
      "996        997               Mini Double Chocolate Ice Cream Bars  19.48\n"
     ]
    }
   ],
   "source": [
    "print(f\"Optimization Status: {LpStatus[model.status]}\")\n",
    "print(f\"Total Profit: {value(model.objective)}\")\n",
    "print(f\"Budget Used: {np.sum(unit_cost[selected_df.index])} / {max_budget}\")\n",
    "print(\"\\nSelected Products:\\n\", selected_df[['ProductID', 'ProductName', 'Price']])\n"
   ]
  },
  {
   "cell_type": "code",
   "execution_count": 82,
   "id": "dc1a2b2e",
   "metadata": {},
   "outputs": [
    {
     "name": "stdout",
     "output_type": "stream",
     "text": [
      "Columns in solution_df: ['ProductID', 'ProductName', 'Price', 'Selected']\n"
     ]
    },
    {
     "data": {
      "image/png": "[encoded data removed]",
      "text/plain": [
       "<Figure size 864x432 with 1 Axes>"
      ]
     },
     "metadata": {
      "needs_background": "light"
     },
     "output_type": "display_data"
    }
   ],
   "source": [
    "# --- VISUALIZATION 4: Product ID vs Count (Selected or Not) ---\n",
    "print(\"Columns in solution_df:\", solution_df.columns.tolist())  # debug check\n",
    "\n",
    "count_df = solution_df.groupby('ProductID')['Selected'].sum().reset_index()\n",
    "plt.figure(figsize=(12, 6))\n",
    "plt.bar(count_df['ProductID'].astype(str), count_df['Selected'], color='purple')\n",
    "plt.title('Product ID vs Selection Count (0 or 1)')\n",
    "plt.xlabel('Product ID')\n",
    "plt.ylabel('Count (Selected)')\n",
    "\n",
    "# Thin x-ticks: show every 10th label\n",
    "tick_labels = count_df['ProductID'].astype(str)\n",
    "plt.xticks(ticks=range(0, len(tick_labels), 10), labels=tick_labels[::10], rotation=90)\n",
    "\n",
    "plt.tight_layout()\n",
    "plt.show()\n",
    "\n"
   ]
  },
  {
   "cell_type": "raw",
   "id": "8c52d325",
   "metadata": {},
   "source": [
    "# Pareto chart: shows which few products contribute most to profit."
   ]
  },
  {
   "cell_type": "code",
   "execution_count": 83,
   "id": "05457b79",
   "metadata": {},
   "outputs": [
    {
     "data": {
      "image/png": "[encoded data removed]",
      "text/plain": [
       "<Figure size 720x360 with 1 Axes>"
      ]
     },
     "metadata": {
      "needs_background": "light"
     },
     "output_type": "display_data"
    }
   ],
   "source": [
    "sorted_by_price = selected_df.sort_values('Price', ascending=False)\n",
    "sorted_by_price['Cumulative'] = sorted_by_price['Price'].cumsum() / sorted_by_price['Price'].sum()\n",
    "plt.figure(figsize=(10, 5))\n",
    "plt.bar(sorted_by_price['ProductName'], sorted_by_price['Price'], color='skyblue')\n",
    "plt.plot(sorted_by_price['ProductName'], sorted_by_price['Cumulative'], color='red', marker='o')\n",
    "plt.axhline(0.8, color='gray', linestyle='--')\n",
    "plt.title('Pareto Chart: Product Price Contribution')\n",
    "plt.xticks(rotation=90)\n",
    "plt.ylabel('Price / Cumulative Share')\n",
    "plt.tight_layout()\n",
    "plt.show()"
   ]
  },
  {
   "cell_type": "raw",
   "id": "b3904ed3",
   "metadata": {},
   "source": [
    "#  Correlation heatmap: adds analytical depth if you have numeric columns."
   ]
  },
  {
   "cell_type": "code",
   "execution_count": 84,
   "id": "d80336cc",
   "metadata": {},
   "outputs": [
    {
     "data": {
      "image/png": "[encoded data removed]",
      "text/plain": [
       "<Figure size 576x432 with 2 Axes>"
      ]
     },
     "metadata": {
      "needs_background": "light"
     },
     "output_type": "display_data"
    }
   ],
   "source": [
    "numeric_cols = df.select_dtypes(include=np.number)\n",
    "if len(numeric_cols.columns) > 1:\n",
    "    corr = numeric_cols.corr()\n",
    "    plt.figure(figsize=(8, 6))\n",
    "    sns.heatmap(corr, annot=True, cmap='coolwarm', fmt=\".2f\")\n",
    "    plt.title('Correlation Heatmap')\n",
    "    plt.show()"
   ]
  },
  {
   "cell_type": "code",
   "execution_count": 85,
   "id": "4509976c",
   "metadata": {},
   "outputs": [
    {
     "name": "stdout",
     "output_type": "stream",
     "text": [
      "\n",
      "💡 You saved $0.00 from your max budget of $500.00.\n"
     ]
    }
   ],
   "source": [
    "total_spent = np.sum(unit_cost[selected_df.index])\n",
    "total_savings = max_budget - total_spent\n",
    "print(f\"\\n💡 You saved ${total_savings:.2f} from your max budget of ${max_budget:.2f}.\")"
   ]
  },
  {
   "cell_type": "code",
   "execution_count": 86,
   "id": "81f0c489",
   "metadata": {},
   "outputs": [
    {
     "name": "stdout",
     "output_type": "stream",
     "text": [
      "\n",
      "✅ Results saved to 'optimal_product_selection.csv'.\n"
     ]
    }
   ],
   "source": [
    "solution_df.to_csv('optimal_product_selection.csv', index=False)\n",
    "print(\"\\n✅ Results saved to 'optimal_product_selection.csv'.\")"
   ]
  },
  {
   "cell_type": "raw",
   "id": "f3a1b601",
   "metadata": {},
   "source": [
    "## Project Report Summary"
   ]
  },
  {
   "cell_type": "code",
   "execution_count": 87,
   "id": "263c367f",
   "metadata": {},
   "outputs": [
    {
     "name": "stdout",
     "output_type": "stream",
     "text": [
      "\n",
      "📊 PROJECT SUMMARY REPORT\n",
      "Total Products Evaluated: 999\n",
      "Total Products Selected: 29\n",
      "Total Profit Achieved: $833.33\n",
      "Budget Utilization: $500.00 / $500.00\n",
      "Savings Left: $0.00\n"
     ]
    }
   ],
   "source": [
    "print(\"\\n📊 PROJECT SUMMARY REPORT\")\n",
    "print(f\"Total Products Evaluated: {len(df)}\")\n",
    "print(f\"Total Products Selected: {len(selected_df)}\")\n",
    "print(f\"Total Profit Achieved: ${value(model.objective):.2f}\")\n",
    "print(f\"Budget Utilization: ${total_spent:.2f} / ${max_budget:.2f}\")\n",
    "print(f\"Savings Left: ${total_savings:.2f}\")\n"
   ]
  },
  {
   "cell_type": "code",
   "execution_count": 88,
   "id": "f7e5e07a",
   "metadata": {},
   "outputs": [
    {
     "name": "stdout",
     "output_type": "stream",
     "text": [
      "\n",
      "🌟 Top Product by Price: Lamb Shank (ID: 84) - $44.89\n"
     ]
    }
   ],
   "source": [
    "top_product = selected_df.loc[selected_df['Price'].idxmax()]\n",
    "print(f\"\\n🌟 Top Product by Price: {top_product['ProductName']} (ID: {top_product['ProductID']}) - ${top_product['Price']:.2f}\")\n"
   ]
  },
  {
   "cell_type": "raw",
   "id": "80607955",
   "metadata": {},
   "source": [
    "# Visualizing Constraints and Feasible Region (Based on Product Data)"
   ]
  },
  {
   "cell_type": "code",
   "execution_count": 89,
   "id": "94034b57",
   "metadata": {},
   "outputs": [
    {
     "name": "stdout",
     "output_type": "stream",
     "text": [
      "\n",
      "🔍 Visualizing Constraints and Feasible Region (Based on Product Data)\n"
     ]
    },
    {
     "data": {
      "image/png": "[encoded data removed]",
      "text/plain": [
       "<Figure size 576x576 with 1 Axes>"
      ]
     },
     "metadata": {
      "needs_background": "light"
     },
     "output_type": "display_data"
    }
   ],
   "source": [
    "import numpy as np\n",
    "import matplotlib.pyplot as plt\n",
    "\n",
    "print(\"\\n🔍 Visualizing Constraints and Feasible Region (Based on Product Data)\")\n",
    "\n",
    "# Select top two products (or most relevant) for A and B demo\n",
    "if len(solution_df) < 2:\n",
    "    print(\"⚠ Not enough selected products to plot 2D constraints.\")\n",
    "else:\n",
    "    product_A = solution_df.iloc[0]\n",
    "    product_B = solution_df.iloc[1]\n",
    "\n",
    "    # Use price as value proxies\n",
    "    A_range = np.arange(-100, 220, 10)\n",
    "    B_range = np.arange(-100, 220, 10)\n",
    "\n",
    "    # Example constraint line: price_A + price_B ≤ budget\n",
    "    B1 = (max_budget / product_B['Price']) - (product_A['Price'] / product_B['Price']) * A_range\n",
    "\n",
    "    plt.figure(figsize=(8, 8))\n",
    "    plt.xlim(-100, 220)\n",
    "    plt.ylim(-100, 220)\n",
    "    plt.hlines(0, -100, 220, color='k')\n",
    "    plt.vlines(0, -100, 220, color='k')\n",
    "    plt.grid(True)\n",
    "\n",
    "    plt.xlabel(f\"{product_A['ProductName']} (Units)\")\n",
    "    plt.ylabel(f\"{product_B['ProductName']} (Units)\")\n",
    "\n",
    "    # Plot constraint line\n",
    "    plt.plot(A_range, B1, color='b', label=f\"{product_A['ProductName']} + {product_B['ProductName']} ≤ Budget\")\n",
    "    plt.axvline(x=200, color='g', label=f\"{product_A['ProductName']} ≤ 200\")\n",
    "    plt.axhline(y=170, color='m', label=f\"{product_B['ProductName']} ≤ 170\")\n",
    "\n",
    "    plt.title(f\"Objective: Maximize Profit with {product_A['ProductName']} and {product_B['ProductName']}\")\n",
    "    plt.legend()\n",
    "\n",
    "    # Define feasible corner points (example only; replace with real ones if needed)\n",
    "    A_points = [200.0, 100.0, 100.0, 120.0, 200.0]\n",
    "    B_points = [170.0, 170.0, 100.0, 80.0, 80.0]\n",
    "    plt.fill(A_points, B_points, 'g+', label='Feasible Region')\n",
    "\n",
    "    plt.show()\n",
    "\n",
    "    "
   ]
  },
  {
   "cell_type": "raw",
   "id": "923049e7",
   "metadata": {},
   "source": [
    "# Maximum Profit(Manual Check) Between two Products"
   ]
  },
  {
   "cell_type": "code",
   "execution_count": 90,
   "id": "6a04fb9b",
   "metadata": {},
   "outputs": [
    {
     "name": "stdout",
     "output_type": "stream",
     "text": [
      "\n",
      "Calculating for point: Chocolate Sandwich Cookies = 200.0, All-Seasons Salt = 170.0\n",
      "Solution Z = 7418.20\n",
      "\n",
      "Calculating for point: Chocolate Sandwich Cookies = 100.0, All-Seasons Salt = 170.0\n",
      "Solution Z = 6162.20\n",
      "\n",
      "Calculating for point: Chocolate Sandwich Cookies = 100.0, All-Seasons Salt = 100.0\n",
      "Solution Z = 4142.00\n",
      "\n",
      "Calculating for point: Chocolate Sandwich Cookies = 120.0, All-Seasons Salt = 80.0\n",
      "Solution Z = 3816.00\n",
      "\n",
      "Calculating for point: Chocolate Sandwich Cookies = 200.0, All-Seasons Salt = 80.0\n",
      "Solution Z = 4820.80\n",
      "\n",
      "✅ Maximum Profit (Manual Check) Z = $7418.20 at Chocolate Sandwich Cookies = 200.0, All-Seasons Salt = 170.0\n"
     ]
    }
   ],
   "source": [
    "# --- MANUAL BEST POINT CHECK ---\n",
    "checker = float('-inf')\n",
    "for i, j in zip(A_points, B_points):\n",
    "    z = product_B['Price'] * j + product_A['Price'] * i  # Adjust formula to your objective\n",
    "    print(f'\\nCalculating for point: {product_A[\"ProductName\"]} = {i:.1f}, {product_B[\"ProductName\"]} = {j:.1f}')\n",
    "    print(f'Solution Z = {z:.2f}')\n",
    "    if z >= checker:\n",
    "        checker = z\n",
    "        best_A, best_B = i, j\n",
    "\n",
    "print(f'\\n✅ Maximum Profit (Manual Check) Z = ${checker:.2f} at {product_A[\"ProductName\"]} = {best_A}, {product_B[\"ProductName\"]} = {best_B}')\n"
   ]
  },
  {
   "cell_type": "code",
   "execution_count": 91,
   "id": "1bb67721",
   "metadata": {},
   "outputs": [],
   "source": [
    "try:\n",
    "    import deap\n",
    "except ImportError:\n",
    "    !pip install deap\n",
    "\n",
    "import random\n",
    "from deap import base, creator, tools, algorithms"
   ]
  },
  {
   "cell_type": "code",
   "execution_count": 93,
   "id": "4f2c955a",
   "metadata": {},
   "outputs": [
    {
     "name": "stdout",
     "output_type": "stream",
     "text": [
      "Selected products:\n",
      "     product_id                          product_name  price\n",
      "0             1            Chocolate Sandwich Cookies  12.56\n",
      "1             2                      All-Seasons Salt  28.86\n",
      "4             5             Green Chile Anytime Sauce  42.96\n",
      "5             6                          Dry Nose Oil  40.04\n",
      "8             9     Light Strawberry Blueberry Yogurt  17.62\n",
      "..          ...                                   ...    ...\n",
      "990         991                 Red Sweet Mini Pepper  26.68\n",
      "994         995     Sausage Smoked Sweet German Brand  19.09\n",
      "995         996    Honey Cinnamon Nut-Thins  Crackers  32.26\n",
      "996         997  Mini Double Chocolate Ice Cream Bars  19.48\n",
      "997         998               Hot Chopped Green Chili  22.06\n",
      "\n",
      "[502 rows x 3 columns]\n",
      "Total cost: 14039.480000000007\n"
     ]
    }
   ],
   "source": [
    "best_ind = tools.selBest(population, 1)[0]\n",
    "selected = df[[bool(x) for x in best_ind]]\n",
    "print(\"Selected products:\")\n",
    "print(selected[['product_id', 'product_name', 'price']])\n",
    "print(\"Total cost:\", sum(selected['price']))"
   ]
  },
  {
   "cell_type": "code",
   "execution_count": 94,
   "id": "6f95244e",
   "metadata": {},
   "outputs": [],
   "source": [
    "import plotly.graph_objects as go\n",
    "import ipywidgets as widgets\n",
    "from IPython.display import display, clear_output\n"
   ]
  },
  {
   "cell_type": "code",
   "execution_count": 95,
   "id": "e4277e96",
   "metadata": {},
   "outputs": [],
   "source": [
    "assert 'price' in df.columns, \"Your dataset must contain a 'price' column\"\n",
    "\n",
    "prices = df['price'].values\n",
    "n_products = len(df)\n"
   ]
  },
  {
   "cell_type": "code",
   "execution_count": 96,
   "id": "ad28c8d2",
   "metadata": {},
   "outputs": [
    {
     "data": {
      "application/vnd.jupyter.widget-view+json": {
       "model_id": "ffc67879ff584303aaaab2e590f84bc2",
       "version_major": 2,
       "version_minor": 0
      },
      "text/plain": [
       "IntSlider(value=1000, description='Max Budget ₹:', max=10000, min=100, step=100)"
      ]
     },
     "metadata": {},
     "output_type": "display_data"
    },
    {
     "data": {
      "application/vnd.jupyter.widget-view+json": {
       "model_id": "774873bf6cfc4a08b3df4b0059ede85d",
       "version_major": 2,
       "version_minor": 0
      },
      "text/plain": [
       "Button(button_style='success', description='Run Optimization', style=ButtonStyle())"
      ]
     },
     "metadata": {},
     "output_type": "display_data"
    },
    {
     "data": {
      "application/vnd.jupyter.widget-view+json": {
       "model_id": "26e67780760341879f2f74eaf8a7fdef",
       "version_major": 2,
       "version_minor": 0
      },
      "text/plain": [
       "Output()"
      ]
     },
     "metadata": {},
     "output_type": "display_data"
    }
   ],
   "source": [
    "budget_slider = widgets.IntSlider(value=1000, min=100, max=10000, step=100, description='Max Budget ₹:')\n",
    "run_button = widgets.Button(description=\"Run Optimization\", button_style='success')\n",
    "output_area = widgets.Output()\n",
    "\n",
    "display(budget_slider, run_button, output_area)"
   ]
  },
  {
   "cell_type": "code",
   "execution_count": 97,
   "id": "354f4183",
   "metadata": {},
   "outputs": [
    {
     "name": "stderr",
     "output_type": "stream",
     "text": [
      "C:\\Users\\Ayushi Verma\\AppData\\Roaming\\Python\\Python39\\site-packages\\deap\\creator.py:185: RuntimeWarning:\n",
      "\n",
      "A class named 'FitnessMax' has already been created and it will be overwritten. Consider deleting previous creation of that class or rename it.\n",
      "\n",
      "C:\\Users\\Ayushi Verma\\AppData\\Roaming\\Python\\Python39\\site-packages\\deap\\creator.py:185: RuntimeWarning:\n",
      "\n",
      "A class named 'Individual' has already been created and it will be overwritten. Consider deleting previous creation of that class or rename it.\n",
      "\n"
     ]
    }
   ],
   "source": [
    "def on_run_clicked(b):\n",
    "    with output_area:\n",
    "        clear_output()\n",
    "\n",
    "        max_budget = budget_slider.value\n",
    "\n",
    "        # GA setup inside function to prevent multiple DEAP creator errors\n",
    "        try:\n",
    "            del creator.FitnessMax\n",
    "            del creator.Individual\n",
    "        except:\n",
    "            pass\n",
    "creator.create(\"FitnessMax\", base.Fitness, weights=(1.0,))\n",
    "creator.create(\"Individual\", list, fitness=creator.FitnessMax)"
   ]
  },
  {
   "cell_type": "code",
   "execution_count": 98,
   "id": "1e96fbb1",
   "metadata": {},
   "outputs": [],
   "source": [
    " toolbox = base.Toolbox()\n",
    "toolbox.register(\"attr_bool\", random.randint, 0, 1)\n",
    "toolbox.register(\"individual\", tools.initRepeat, creator.Individual, toolbox.attr_bool, n_products)\n",
    "toolbox.register(\"population\", tools.initRepeat, list, toolbox.individual)"
   ]
  },
  {
   "cell_type": "code",
   "execution_count": 99,
   "id": "6c112700",
   "metadata": {},
   "outputs": [],
   "source": [
    " def eval_ind(individual):\n",
    "        total_cost = sum(individual[i] * prices[i] for i in range(n_products))\n",
    "        if total_cost > max_budget:\n",
    "            return 0,\n",
    "        return total_cost,\n",
    "\n",
    "toolbox.register(\"evaluate\", eval_ind)\n",
    "toolbox.register(\"mate\", tools.cxTwoPoint)\n",
    "toolbox.register(\"mutate\", tools.mutFlipBit, indpb=0.05)\n",
    "toolbox.register(\"select\", tools.selTournament, tournsize=3)\n",
    "\n"
   ]
  },
  {
   "cell_type": "code",
   "execution_count": 100,
   "id": "312c97b2",
   "metadata": {},
   "outputs": [
    {
     "name": "stdout",
     "output_type": "stream",
     "text": [
      "🎯 Total selected cost: ₹14100.72\n"
     ]
    },
    {
     "data": {
      "text/html": [
       "<div>\n",
       "<style scoped>\n",
       "    .dataframe tbody tr th:only-of-type {\n",
       "        vertical-align: middle;\n",
       "    }\n",
       "\n",
       "    .dataframe tbody tr th {\n",
       "        vertical-align: top;\n",
       "    }\n",
       "\n",
       "    .dataframe thead th {\n",
       "        text-align: right;\n",
       "    }\n",
       "</style>\n",
       "<table border=\"1\" class=\"dataframe\">\n",
       "  <thead>\n",
       "    <tr style=\"text-align: right;\">\n",
       "      <th></th>\n",
       "      <th>product_id</th>\n",
       "      <th>product_name</th>\n",
       "      <th>price</th>\n",
       "    </tr>\n",
       "  </thead>\n",
       "  <tbody>\n",
       "    <tr>\n",
       "      <th>0</th>\n",
       "      <td>1</td>\n",
       "      <td>Chocolate Sandwich Cookies</td>\n",
       "      <td>12.56</td>\n",
       "    </tr>\n",
       "    <tr>\n",
       "      <th>1</th>\n",
       "      <td>2</td>\n",
       "      <td>All-Seasons Salt</td>\n",
       "      <td>28.86</td>\n",
       "    </tr>\n",
       "    <tr>\n",
       "      <th>2</th>\n",
       "      <td>3</td>\n",
       "      <td>Robust Golden Unsweetened Oolong Tea</td>\n",
       "      <td>25.67</td>\n",
       "    </tr>\n",
       "    <tr>\n",
       "      <th>3</th>\n",
       "      <td>4</td>\n",
       "      <td>Smart Ones Classic Favorites Mini Rigatoni Wit...</td>\n",
       "      <td>39.60</td>\n",
       "    </tr>\n",
       "    <tr>\n",
       "      <th>9</th>\n",
       "      <td>10</td>\n",
       "      <td>Sparkling Orange Juice &amp; Prickly Pear Beverage</td>\n",
       "      <td>10.89</td>\n",
       "    </tr>\n",
       "    <tr>\n",
       "      <th>...</th>\n",
       "      <td>...</td>\n",
       "      <td>...</td>\n",
       "      <td>...</td>\n",
       "    </tr>\n",
       "    <tr>\n",
       "      <th>990</th>\n",
       "      <td>991</td>\n",
       "      <td>Red Sweet Mini Pepper</td>\n",
       "      <td>26.68</td>\n",
       "    </tr>\n",
       "    <tr>\n",
       "      <th>992</th>\n",
       "      <td>993</td>\n",
       "      <td>Mild Diced Tomatoes with Green Chilis</td>\n",
       "      <td>10.42</td>\n",
       "    </tr>\n",
       "    <tr>\n",
       "      <th>995</th>\n",
       "      <td>996</td>\n",
       "      <td>Honey Cinnamon Nut-Thins  Crackers</td>\n",
       "      <td>32.26</td>\n",
       "    </tr>\n",
       "    <tr>\n",
       "      <th>996</th>\n",
       "      <td>997</td>\n",
       "      <td>Mini Double Chocolate Ice Cream Bars</td>\n",
       "      <td>19.48</td>\n",
       "    </tr>\n",
       "    <tr>\n",
       "      <th>998</th>\n",
       "      <td>999</td>\n",
       "      <td>Original Organic Ville BBQ Sauce</td>\n",
       "      <td>17.49</td>\n",
       "    </tr>\n",
       "  </tbody>\n",
       "</table>\n",
       "<p>515 rows × 3 columns</p>\n",
       "</div>"
      ],
      "text/plain": [
       "     product_id                                       product_name  price\n",
       "0             1                         Chocolate Sandwich Cookies  12.56\n",
       "1             2                                   All-Seasons Salt  28.86\n",
       "2             3               Robust Golden Unsweetened Oolong Tea  25.67\n",
       "3             4  Smart Ones Classic Favorites Mini Rigatoni Wit...  39.60\n",
       "9            10     Sparkling Orange Juice & Prickly Pear Beverage  10.89\n",
       "..          ...                                                ...    ...\n",
       "990         991                              Red Sweet Mini Pepper  26.68\n",
       "992         993              Mild Diced Tomatoes with Green Chilis  10.42\n",
       "995         996                 Honey Cinnamon Nut-Thins  Crackers  32.26\n",
       "996         997               Mini Double Chocolate Ice Cream Bars  19.48\n",
       "998         999                   Original Organic Ville BBQ Sauce  17.49\n",
       "\n",
       "[515 rows x 3 columns]"
      ]
     },
     "metadata": {},
     "output_type": "display_data"
    }
   ],
   "source": [
    "pop = toolbox.population(n=50)\n",
    "algorithms.eaSimple(pop, toolbox, cxpb=0.5, mutpb=0.2, ngen=40, verbose=False)\n",
    "\n",
    "best = tools.selBest(pop, 1)[0]\n",
    "selected = df[[bool(x) for x in best]].copy()\n",
    "total_price = selected['price'].sum()\n",
    "\n",
    "print(f\"🎯 Total selected cost: ₹{total_price:.2f}\")\n",
    "display(selected[['product_id', 'product_name', 'price']])\n"
   ]
  },
  {
   "cell_type": "code",
   "execution_count": 102,
   "id": "5824f18f",
   "metadata": {},
   "outputs": [
    {
     "data": {
      "application/vnd.plotly.v1+json": {
       "config": {
        "plotlyServerURL": "https://plot.ly"
       },
       "data": [
        {
         "labels": [
          "Chocolate Sandwich Cookies",
          "All-Seasons Salt",
          "Robust Golden Unsweetened Oolong Tea",
          "Smart Ones Classic Favorites Mini Rigatoni With Vodka Cream Sauce",
          "Sparkling Orange Juice & Prickly Pear Beverage",
          "Peach Mango Juice",
          "Chocolate Fudge Layer Cake",
          "Mint Chocolate Flavored Syrup",
          "Gluten Free Quinoa Three Cheese & Mushroom Blend",
          "Pomegranate Cranberry & Aloe Vera Enrich Drink",
          "Complete Spring Water Foaming Antibacterial Hand Wash",
          "Fresh Cut Golden Sweet No Salt Added Whole Kernel Corn",
          "Three Cheese Ziti, Marinara with Meatballs",
          "Nacho Cheese White Bean Chips",
          "Organic Spaghetti Style Pasta",
          "Peanut Butter Cereal",
          "Italian Herb Porcini Mushrooms Chicken Sausage",
          "Ultra Antibacterial Dish Liquid",
          "Daily Tangerine Citrus Flavored Beverage",
          "Beef Hot Links Beef Smoked Sausage With Chile Peppers",
          "Biotin 1000 mcg",
          "Sparkling Raspberry Seltzer",
          "European Cucumber",
          "Vegetarian Grain Meat Sausages Italian - 4 CT",
          "Mirabelle Brut Rose",
          "Whole Leaf Pure Aloe With Lemon Juice",
          "24/7 Performance Cat Litter",
          "Whole Wheat Tortillas",
          "Cheesy Creations Roasted Garlic Parmesan Sauce",
          "Ramen Noodles Soup Chicken Mushroom Flavor",
          "Premium Deli Oven Roasted Turkey Breast",
          "Banana & Sweet Potato Organic Teething Wafers",
          "European Style Spring Mix",
          "Jelly, Blackberry",
          "Pancake Mix, Buttermilk",
          "Vanilla with Almond Milk Iced Coffee",
          "Organic Honeycrisp Apples",
          "Coconut Chocolate Chip Energy Bar",
          "Nutter Butter Cookie Bites Go-Pak",
          "Wild Albacore Tuna No Salt Added",
          "French  Tarragon Wine Vinegar",
          "Blakes Chicken Parmesan Dinner",
          "All Natural 100% Apple Juice",
          "100% Whole Wheat Pita Bread",
          "Lamb Shank",
          "Soppressata Piccante",
          "Camilia, Single Liquid Doses",
          "Classics Earl Grey Tea",
          "Probiotics High Potency Capsules",
          "Yogurt Fruit Dip Sliced Apples",
          "Smorz Cereal",
          "Meat In The Middle Large Rawhide Chews",
          "Organic Blueberry Blitz Fruit & Veggie Smoothie Mashups",
          "Organic Rice Vinegar",
          "Organic Chamomile Lemon Tea",
          "Bread, Healthy Whole Grain",
          "Easy Grab 9\\\"x13\\\" Oblong Glass Bakeware",
          "Mild Salsa Divino",
          "Organic Sprouted Barley Bread",
          "Grape Leaf Hummus Wrap",
          "Hot Tomatillo Salsa",
          "Scooby-Doo! Fruit Flavored Snacks",
          "English Muffins",
          "Sharp Cheddar",
          "Pomegranate Molasses",
          "Sherry Reserve Vinegar",
          "Herbal Armor DEET-Free Natural Insect Repellant",
          "Hot & Spicy Chicken Flavor Ramen Noodles",
          "Marscapone",
          "Vanilla Milk Chocolate Almond Ice Cream Bars Multi-Pack",
          "Stain Release Boost In-Wash Stain Remover Pacs",
          "Simple",
          "Very Vanilla Soymilk",
          "Olli Napoli Salami",
          "Organic Lemons",
          "Coarse Grind Garlic Powder & Parsley Blend",
          "Traditional Water Crackers",
          "Anti Diarrheal Caplets",
          "Nectarines",
          "Wild Blueberry All Natural Fruit Spread",
          "Brut Rosé",
          "Fabric Refresher Meadows & Rain Air Freshener (1 Count, 27 oz)  Air Care",
          "Calcium Adult Gummy Vitamins, Orange Cherry & Strawberry",
          "Hacho Miso Aged & Fermented Soybeans",
          "Peanut Butter Cacao Quinoa Clusters",
          "Garlic Parmesan Pita Bread Chips",
          "Sparkling Blush Grape Juice",
          "Halves & Pieces Walnuts",
          "Single Herbs Ginkgo Leaf Dietary Supplement",
          "Habanero Lime Shrimp Flavor Ramen Noodle Soup",
          "Vanishing Acne Treatment Cream",
          "T Bone Steak",
          "Citrus Terere Yerba Mate",
          "Vegan Santa Fe Style Flour Tortilla Rolled Tacos",
          "Penne Rigate With Spinach",
          "Simply Beyond Black Bean Tortilla Chips",
          "Chicken Nugget Meal",
          "Mild El Nino Salsa",
          "Classic Culinary Low Sodium Vegetable Broth",
          "fruitwater® Strawberry Kiwi Sparkling Water",
          "Sloppy Joe",
          "Spinach & Feta Pierogi",
          "Rescue Remedy, Spray",
          "Chocolate Mint Cookie Crunch Nutrition Bar",
          "Minis Candy Bars",
          "Organic Blue Corn Sea Salt Tortilla Chips",
          "Argan Oil of Morocco Renewing Weightless Healing Dry Oil Hair Oil",
          "Gluten Free Oatmeal, Variety Pack",
          "6\\\" Organic Carrot Cake",
          "Cayenne Lemonade Made With Raw Tristate Honey",
          "Kiwi Strawberry Sparkling Water",
          "Foaming Hand Soap Kid Watermelon",
          "Shaved Parmesan Cheese",
          "EcoNet Recycled Bath Sponge",
          "Vanilla Cream Soda",
          "Low Sodium Turkey",
          "Tennessee Whiskey",
          "Brambleberry Herbal Tea",
          "Alpha-Bits Multigrain Cereal",
          "Chicharrones Picante Flavor Pork Rinds",
          "Nature's Seasons Seasoning Blend",
          "Shrimp with Pasta & Vegetables",
          "Taco Reduced Sodium Seasoning Mix",
          "Poppy Seed Bagels",
          "Pinot Grigio, California, 2010",
          "Extra Strength Melatonin Adult Gummies",
          "Waffles, Red Berry",
          "Organic Vegetable Greens & Greens Juice Blend",
          "Honey Mustard",
          "Island Fruits Fruit Snacks",
          "Key Lime Soda",
          "Vegetable Pot Pie",
          "Imported Italian Solid Light Tuna In Pure Olive Oil",
          "Cantaloupe",
          "Petite Dill Pickles",
          "Red Food Color",
          "Non-Fat Blueberry on the Bottom Greek Yogurt",
          "Glass Storage Container with Green Silicone Protection",
          "Rio Berry",
          "OneZip Storage Bags Quart Size Value Pack",
          "TAI PEI      14OZ.SWEET & SOUR CHKN",
          "Propolis Herbal Supplement",
          "Thin Stackers Brown Rice  Salt Free",
          "Snack Bags",
          "Caramel Sauce",
          "French Vanilla Ice Cream",
          "Instant Mashed Potatoes",
          "Chai Tea Bags",
          "Oh My Cod! Cod Pate and Vegetables Cat Food",
          "Organic Spicy Heirloom Marinara Sauce",
          "Mini Nilla Wafers Munch Pack",
          "Lite Poppy Seed Dressing Lite",
          "Original Sprouted Grains Protein & Fiber Hot Oatmeal",
          "100% Juice No Sugar Added Fruit Punch",
          "Fresh Multi-Purpose Contact Lens Solution",
          "Chewables Extra Strength Cherry Creme - 48 CT",
          "Write Bros Ball Point Pens, Cap-Pen, Medium (1.0 mm), Black Ink",
          "Biotin 10,000mcg Maximum Strength",
          "Gold Potatoes",
          "Advanced Haircare Color Vibrancy Nourishing Shampoo",
          "Crackers, Puffed, Corn, Quinoa & Sesame",
          "Naturals Savory Turkey Breakfast Sausage",
          "Peppermint/Banana Split Variety Pack Frozen Dairy Dessert Cones",
          "Extra Whitening Multi-Benefit Fluoride Toothpaste",
          "Creamy Italian Dressing Marinade",
          "Revive Anti-Perspirant Deodorant",
          "Best Grains Honey & Crunch Oat Bread",
          "Steamfresh Chef's Favorites Lightly Sauced Roasted Red Potatoes & Green Beans",
          "Glycerine Soap, Pure and Natural, Cucumber",
          "Echinacea Goldenseal Alcohol Free Extract",
          "Natural Food Color Packets",
          "Veggie-Style Mini Corn Dogs",
          "Deluxe Sauce Made with 2% Milk Cheese Macaroni & Cheese Dinner",
          "Basil Daly Bar Soap",
          "Sparkling Raspberry Lemonade Water Beverage",
          "Blueberry Kombucha",
          "Eco-Pac Kamut Puffs Cereal",
          "Complete Health Deboned Chicken, Chicken Meal and Rice Cat Food",
          "Organic Whole Peeled Baby Carrots",
          "Extra Strength Berry",
          "Sunflower Bread",
          "Super Slimming Herbal Tea",
          "Mixed 12 Pack Lion's Share Ale",
          "Go Fresh Nutrium Moisture Body Wash Blue Fig & Orange Blossom Scent",
          "Ground Flaxseed With Mixed Berries",
          "White Writing Gel",
          "Vitamin C 1000 Mg Tropical Drink Mix Dietary Supplement",
          "Ultimate Omega 1000 mg Lemon Soft Gels",
          "Juniper Berry Soda",
          "Moisture Rich Sweet Orange & Argan Conditioner",
          "Honey Glazed Carrots",
          "Multigrain Spaghetti Style Pasta",
          "Powerball Quantum Max Shine & Protect Automatic Dishwasher Detergent",
          "Super Dry Beer",
          "Clementine Bag",
          "Toaster Pops Strawberry",
          "Breaded Chicken Breast Tenders",
          "Liquid Drink Mix Blackberry Lemonade",
          "Real Chicken & Veggies Recipe Dog Food",
          "Chocolate Brownie Flavor Protein Bar",
          "Mache Blend",
          "Super Enzymes",
          "OPA Greek Yogurt Ranch Dressing",
          "Aquaphor Healing Ointment",
          "Reg; Organic Apple Cider Vinegar 16 Fl Oz",
          "Vanilla Almond Protein Bar",
          "Almond Glow Almond Body Lotion/Massage Oil",
          "Original Bite Size Candies Natural & Artificial Flavors Fun Size",
          "Holiday Sugar Plum Spice Herbal Tea",
          "Brazilian Keratin & Argan Oil Leave-In Conditioning & Styling Elixir",
          "Dual Action Beta Immune and Anti-Oxidant Effervescent Citrus",
          "Gluten Free Chicken Rustica Pizza",
          "16 oz Cold Cups",
          "International Cafe French Vanilla Mix",
          "Garlic & Herb Fresh Goat Cheese",
          "Mix-Up Flamin' Hot & Cheezy Mix Flavored Snack Mix",
          "Italian Style Panko Breadcrumbs",
          "Everyday Mega Pack Paper Plates",
          "Dark Red Kidney Beans",
          "Born Yesterday Pale Ale",
          "Ice Cream, Cookies & Cream",
          "Vanilla Almond Breeze Almond Milk",
          "Organic Whole Granulation Roasted Buckwheat Groats",
          "Petite Brussels Sprouts",
          "Special K Vanilla Cappuccino Protein Breakfast Shakes",
          "Special Recipe Italian Bread",
          "White Chicken Chili",
          "Chips Ahoy! Chewy Cookies",
          "Chow Mein Thin Noodles",
          "Sleepytime Sinus Soother Herbal Tea",
          "Whole Wheat Fig Bar",
          "Fiber 4g Gummy Dietary Supplement",
          "Salt Free Seasoning",
          "100% Natural Just Peaches",
          "Old Fashioned Vegetable Beef Soup",
          "Soup, Lower Sodium, Organic, Split Pea",
          "Kabocha Squash",
          "Whipping Cream",
          "Lite Beer",
          "Lavender Body Wash",
          "Organic Reposado Tequila",
          "Chub Mackerel",
          "Black Peppercorns",
          "Gentle Clean Foaming Face Cleanser, 6.7 fl oz Female Skin Care",
          "\\\"Constant Comment\\\" Decaffeinated Black Tea Blend",
          "Lowfat Raspberry Kefir Probiotic Cultured Milk Smoothie",
          "Dough for Turnover Pastries",
          "Gin Gins Candy",
          "Couscous, Israeli, Garlic Jalapeno",
          "Pure Cane Granulated W/Spout Sugar",
          "Mascarpone Pistachio Caramel Gelato",
          "Non-Scratch Scrub Sponges",
          "Wild Rice Blend",
          "Tikka Masala Curry Sauce",
          "Freeze-Dried Edamame Veggie Snack",
          "Honey Maid Graham Cracker Crumbs",
          "Organic Lowfat Pomegranate Acai Kefir Probiotic Cultured Milk Smoothie",
          "French Rolls",
          "Antioxidant Infusions Brasilia Blueberry",
          "Sweet & Smokey Kansas City Bbq Sauce",
          "Daily Shower Cleaner Ylang Ylang",
          "Biotin & Collagen Shampoo",
          "in Gravy with Carrots Peas & Corn Mashed Potatoes & Meatloaf Nuggets",
          "7UP",
          "Adult Dog Formula Dog Food",
          "Tomato Paste with Basil, Oregano & Garlic Flavor",
          "Belgian Waffles",
          "Kosher Dill Babies",
          "Take Alongs Twist & Seal Liquid Storage",
          "Tri Color Tortilla Strips",
          "Beef Strips Portabella Complete Meals",
          "with Dawn Action Pacs Fresh Scent Dishwasher Detergent Pacs",
          "Rice & Bean Snack Chips With Adzuki Beans Chipotle Cheese",
          "Creamy Danish Blue Cheese Wedge",
          "Tomatillo Salsa",
          "1000 Roses Floral Toner for Sensitive Skin",
          "Granola, Veritas, Organic",
          "Riesling, Mosel, 2014",
          "BBQ Concentrate & Marinade Sauce",
          "Turkey Chili",
          "Even The Kitchen Sink Kitchen & Bath Scrubber",
          "Bake & Break Cheese Garlic Loaf",
          "Red Seedless Grapes Imported",
          "Cookie Chips Crunchy Dark Chocolate Chocolate Chip Cookies",
          "Tea Temples Green Tea With Mint",
          "Traditional Tartar Sauce",
          "Pure Moringa Vegetable Powder",
          "Organic Thin Sliced 100% Whole Wheat Bread",
          "Golden Cupcakes 8 Pack",
          "White Chicken Chili with Beans Pouch",
          "Thin & Crispy Crust Pepperoni Pizza",
          "Red Roses",
          "Crunch Vanilla Sugar Mini Cookies",
          "Liqui-Gels Softgels Dye-Free Allergy",
          "Washington State Merlot",
          "Garnet Sweet Potato (Yam)",
          "Lite Whipped Topping",
          "Vanilla Incense of Auroville",
          "Organic Blueberry Pomegranate Whole Milk Yogurt",
          "Air Effects Gain Island Fresh",
          "Salsa Roja",
          "Almonds Roasted and Salted",
          "Oreo Cookies and Cream Chocolate Frozen Dairy Dessert",
          "Dailyfoods Vitamin D-3 2000 IU",
          "Floor Care Tile & Vinyl Floor Finish Clean Scent",
          "Organic Crunchy Slaw Americana Salad",
          "NasaFlo Neti Pot Sinus Relief with Premixed",
          "Goober Strawberry",
          "Clarified Lime Juice",
          "Mac & Cheezy Ravioli For Kids",
          "Uncured Hard Salami",
          "Rice, Extra Long Grain, Enriched",
          "Infinity Always Infinity Size 2 Super Pads with Wings, Unscented, 16 ct Feminine Care",
          "Plain Dairy-Free Probiotic Drinkable Cashewgurt",
          "Supreme Pretzel Crackers",
          "Silken Tofu",
          "Apple Sparkling Juice Beverage",
          "Norwegian Salmon Oil Omega-3s EPA & DHA Dietary Supplement Soft Gels 1000 mg",
          "98% Fat Free Cream Of Chicken Soup",
          "Fudge Brownies with English Walnuts",
          "Fun Size Snacks",
          "Low Fat Honey Graham Crackers",
          "Fresh Oj",
          "Snack Size Candy",
          "Original Puffcorn",
          "Little Bites Snickerdoodle Muffins",
          "Won Ton Wrappers",
          "Cheddar Cheese Curds",
          "Three Cheese Ravioli",
          "Kidney Beans, Dark, Premium",
          "Organic Southwestern Vegetable Soup",
          "Organic Fruit Punch",
          "Elbow Macaroni",
          "Classic coke",
          "Pop'n Hot! Vegan Broccoli Poppers",
          "Organic Salted Butter",
          "Flax, Oat Bran & Whole Wheat Flour Tortillas",
          "Ultra Thin Super Long with Wings Pads",
          "Fettucine Paglia & Fieno Enriched Egg Pasta",
          "Keebler Sandies Cashew 12.8 Oz",
          "Foldit Flatbreads Artisan Rosemary & Olive Oil",
          "Pico De Gallo",
          "Cream Style Corn",
          "The Santa Cruz Burrito",
          "Coconut Drink, Vanilla",
          "Vegan Shells & Creamy Sauce Mac & Cheese Macaroni & Cheese Organic",
          "Double Berry Cheesecake",
          "Chicken Base",
          "Sponge Blossoms",
          "Thin Cakes, Puffed Multigrain",
          "Sunset Blush",
          "Peach Aloe Vera Drink",
          "Acne Dote Clean 'n Treat Towellettes",
          "Whole Wheat Mini Toasts",
          "Cruisers Diapers Jumbo Pack - Size 5",
          "Town House Sea Salt & Olive Oil Flatbread Crisps",
          "Organic Elmo Vegetable Soup",
          "Organic Porcini Mushroom Risotto",
          "Tea Tree + Sea Buckthorn Calming Shampoo",
          "Cocktail Time Hummus",
          "Vegetable Hearty Garden Soup",
          "Skirt Steak",
          "Diet Dr Pepper Bottles",
          "Tea Tree Replenishing Shampoo",
          "Jet Fuel Dark Roast Whole Bean Coffee",
          "Blueberry Blast Bar",
          "Traditional No Fat Refried Beans",
          "Outlast Xtend Clean Lavender Invisible Solid",
          "Unscented Regular Sleek Tampons",
          "Soft Eating Mango Flavor Liquorice",
          "Garlic Barrel Pickles",
          "Traditional Chicken Tuscany Soup",
          "Artisan Spiced Pecan Turtle Ice Cream",
          "Movie Theater Butter Pop Corn",
          "Gluten-Free Boom Chicka Pop Sweet & Spicy Popcorn",
          "Wraps, Turmeric",
          "Wild Mushroom Vegetarian Quarter Loaf",
          "Salame All Natural Uncured Pepperoni",
          "Four Cheese Pizza Frozen Sandwiches",
          "Beer, IPA",
          "Bean Threads",
          "Organic Raw Coconut Aminos",
          "Dark Chocolate Bar 68% Cacao",
          "Skim Milk sharp Cheddar Cheese Singles",
          "Malt Vinegar & Sea Salt Kettle Cooked Potato Chips",
          "Premium Deli Hard Salami",
          "Pain Reliever and Fever Reducer Cherry Infant Drops",
          "Tidy Cats 4-in-1 Strength Cat Litter",
          "100% Columbian Coffee",
          "Lemonade Flavor Drink Mix",
          "Classic Butter Microwave Popcorn",
          "Swaddlers Diapers Jumbo Pack Size Newborn",
          "Refried Beans Vegetarian",
          "Organic Fiber Fruit Blend",
          "Preference Fade-Defying Color + Shine System 9.5NB Lightest Natural Blonde",
          "Double Control Small Roach Baits Insecticide",
          "Organic 100% Whole Wheat Rigatoni",
          "Fruit Salad Gummi Candy",
          "Teensy Fruits Baby Fruit Snacks Berry",
          "Cat Treats Hair Ball Control Chicken",
          "Breadstick",
          "Organic Shredded Mild Cheddar",
          "Mega Mag",
          "Organic Vegetable Tray",
          "Coconut Lime Lip Balm",
          "XXX Acai Blueberry Pomegranate",
          "Garbanzo Beans",
          "Creamy Chocolate Sugar Free Powder Coffee Creamer",
          "Advanced Care Skin Renew Anti-Perspirant Deodorant",
          "Organic Super Berry Juice",
          "Heirloom Boysenberries",
          "Vitamin D3 1000 I.U Vegetable Capsules",
          "Wild Raspberry Hibiscus Caffiene Free Herbal Tea Bags",
          "Bolani Pumpkin Filled Flatbread",
          "Chocolate Decorating Cookie Icing",
          "Trix Cotton Candy Yogurt",
          "Orange Flavored Sports Drink",
          "Calcium Lime & Rust Remover",
          "3rd Foods Chicken Noodle Dinner",
          "Micro Craft Beer",
          "Refreshing Ocean Breeze Body Wash",
          "Original No-Stick Cooking Spray",
          "Albacore Chunk White Tuna in Water",
          "Compleats Good Mornings Bacon Breakfast Scramble",
          "Skinny Wheat Buns",
          "Single Classic Canned Meat",
          "Lemon Verbena Bar Soap",
          "Sliced Onion Bagels",
          "Glass Bottles",
          "Thick Cut Italian 7-Herb Blend Crispbreads",
          "Mountain Stream Fabric Softener",
          "Polska Kielbasa",
          "NyQuil Severe Cold & Flu",
          "Cat Food, Premium, Adult Cat Formula",
          "Blueberry & Banana Tiny Fruits Freeze Dried Snacks",
          "Chile Con Queso Potato Crisps",
          "Crunchy Granola Bars Variety Pack",
          "Traditional Red Miso",
          "Clamato Chelada Beer",
          "Grilled Asparagus",
          "2-Ply Everyday Napkins",
          "Chicago Steak & Chop Cracked Pepper & Garlic Blend",
          "Unsweetened Original Organic Soy Non-Dairy Beverage",
          "ArtiHearts Fresh Grilled Artichokes",
          "Stainless Steel Strainer",
          "Automatic Toilet Bowl Cleaner Bleach & Blue Rain Clean Scent Pack",
          "Cleanse & Replenish 2-in-1 Shampoo",
          "Rose & Apricot Hair Milk",
          "Power Greens",
          "Graduates Lil' Meals Spaghetti Rings In Meat Sauce",
          "Ginger Berry Kombucha",
          "Vitamin B6 100 mg",
          "Ultra-Filtered Whole Milk",
          "Moisturizing Lavender Body Wash",
          "Fingerling Potato",
          "Peanut Butter Chocolate Chip Bar",
          "Dried Parsley Flakes",
          "Lunchmakers Pizza Pepperoni with Nestle Crunch Bar",
          "Clean Freak Refreshing Dry Shampoo",
          "Oatnut Bread",
          "White Tea Lavender Probiotic Kefir Water No. 2",
          "Vitamin E Oil 45,000 IU",
          "Greek 100 Calories Vanilla Fat Free Yogurt",
          "Saucy Ginger Mandarin Dressing",
          "Colby Jack Cheese Slices",
          "Fava Crisps, Santa Barbara Ranch",
          "Gluten Free Sugar Cones",
          "Chamomilla 30 C",
          "Protein Shake, Organic, Banana Creme",
          "Dry Pasta Lasagne",
          "Light Brie Soft-Ripened Cheese Mini-Wheel",
          "Apricot Fruit Roll",
          "Coconut Yogurt",
          "Black Salt Caramel Dark Chocolate Bar",
          "Country Fresh Old Fashioned Horseradish",
          "Southern Style Diced Hash Brown Potatoes",
          "Crispy Thin Crust White Pizza",
          "Cabernet Sauvignon, Central Coast, 2011",
          "ULTRACLEAN™ Cool Mint ULTRACLEAN™",
          "Premium Apple Juice",
          "Butterfinger Smooth & Crunchy Peanut Butter Cups",
          "Buffalo Style Chicken Strips",
          "Annie's Bunny Fruit Snacks Variety",
          "Bathroom Tissue",
          "Echinacea & Elderberry Organic Herbal Tea",
          "Vanilla Orange Swirl Ice Cream",
          "Seasonal Oikos Greek Yogurt",
          "Sensitive Shave Gel with Aloe",
          "Vitamin D3 Cholecalciferol Softgels",
          "Plain Fat Free Yogurt",
          "Key Lime Moisture Shave",
          "Almond Extract",
          "Chicken & Vegetable Stir Fry Café Steamers",
          "Grape Sunflower Butter Sunwiches",
          "Maxtra Cartridge Water Filter Refills",
          "Gluten Free Soft & Chewy Snicker Doodle Cookies",
          "Petite Green Peas",
          "Chicken Alfredo with Rotini",
          "Linguine No 7 Pasta",
          "8 X 6 Cutting Board",
          "Organic 54% Cocoa Dark Chocolate Bar",
          "Creamy Vanilla Soy Milk Frozen Dessert",
          "Deli Spicy Brown Mustard",
          "Mallow Oats Cereals",
          "Garlic Naan",
          "Strawberry Pomegranate",
          "Cucumber Witch Hazel With Aloe Vera",
          "Crushed Pineapple in 100% Juice",
          "Cranberrry  Almond Soft & Chewy Granola Bar",
          "Diced Pancetta",
          "Red Sweet Mini Pepper",
          "Mild Diced Tomatoes with Green Chilis",
          "Honey Cinnamon Nut-Thins  Crackers",
          "Mini Double Chocolate Ice Cream Bars",
          "Original Organic Ville BBQ Sauce"
         ],
         "textinfo": "label+percent",
         "type": "pie",
         "values": [
          12.56,
          28.86,
          25.67,
          39.6,
          10.89,
          29.19,
          34.19,
          40.64,
          37.51,
          25.22,
          22.47,
          40.34,
          44.71,
          31.97,
          12.22,
          27.62,
          23.88,
          21.26,
          40.83,
          38.82,
          28.64,
          20.07,
          19.56,
          33.34,
          14.4,
          32.43,
          24.54,
          15.15,
          14.81,
          42.43,
          21.83,
          19.25,
          30.53,
          11.65,
          19.98,
          23.12,
          42.04,
          17.97,
          17.13,
          18.28,
          14.41,
          18.97,
          20.33,
          33.47,
          44.89,
          42.18,
          36.42,
          10.74,
          43.19,
          27.31,
          19.71,
          41.84,
          21.07,
          24.14,
          44.58,
          30.01,
          10.03,
          10.41,
          11.42,
          12.46,
          26.78,
          30.1,
          36.91,
          16.87,
          12.39,
          28.83,
          28.72,
          38.98,
          13.58,
          44,
          44.84,
          10.55,
          19.22,
          30.26,
          20.77,
          38.36,
          17.49,
          37.75,
          14.92,
          10.16,
          13.81,
          34.25,
          22.99,
          41.63,
          44.08,
          18.69,
          44.46,
          36.3,
          15.04,
          34.31,
          22.23,
          36.83,
          29.58,
          41.21,
          32.54,
          40.43,
          30.14,
          25.96,
          12.62,
          13.24,
          38.43,
          32.62,
          11.34,
          14.95,
          26.24,
          23.03,
          44.09,
          37.19,
          38.47,
          11.17,
          30.15,
          28.01,
          15.64,
          11.61,
          15.24,
          22.11,
          26.98,
          20.44,
          15.79,
          39.79,
          25.32,
          19.97,
          40.15,
          39.12,
          44.15,
          33.54,
          30.15,
          39.57,
          22.42,
          39.26,
          16.82,
          43.38,
          18.63,
          18.01,
          15.3,
          32.92,
          10.31,
          10.22,
          38.71,
          34.29,
          37.92,
          26.97,
          20.16,
          21.74,
          10.04,
          34.35,
          23.38,
          29.04,
          23.48,
          41.55,
          16.22,
          44.51,
          17.52,
          38.18,
          19.98,
          18.27,
          17.78,
          19.77,
          29.22,
          21.29,
          44.61,
          21.97,
          40.91,
          20.15,
          17.45,
          44.82,
          19.86,
          34.47,
          42.3,
          10.87,
          34.14,
          25.44,
          44.11,
          40.76,
          43.43,
          39.5,
          17.73,
          34.78,
          26.89,
          10.91,
          23.05,
          23.76,
          27.94,
          16.37,
          35.38,
          25.22,
          20.3,
          25.28,
          19.46,
          18.65,
          40.88,
          37.65,
          44.19,
          43.38,
          39.32,
          43.95,
          12.74,
          33.27,
          41.83,
          10.55,
          35.76,
          12.24,
          41.64,
          32.93,
          16.09,
          25.2,
          20.6,
          11.41,
          18.97,
          40.32,
          27.44,
          42.42,
          36.4,
          41.3,
          41.56,
          14.8,
          14.6,
          11.71,
          30.32,
          10.3,
          24.77,
          22.41,
          24.08,
          33.66,
          12.53,
          18.59,
          40.14,
          17.71,
          23.82,
          13.25,
          41.12,
          26.5,
          11.18,
          12.92,
          21.28,
          33.6,
          21.5,
          28.98,
          37.53,
          30.26,
          30.08,
          31.29,
          21.59,
          14.62,
          16.43,
          19.55,
          23.06,
          28.68,
          21.99,
          31.16,
          37.32,
          17.55,
          37.06,
          13.52,
          40.3,
          22.37,
          28.75,
          39.97,
          29.25,
          16.25,
          40.13,
          22.91,
          38.25,
          35.43,
          19.34,
          24.13,
          35.03,
          43.06,
          19.47,
          41.31,
          19.43,
          29.52,
          11.06,
          10.83,
          35.76,
          28.76,
          11.53,
          27.68,
          15.69,
          39.06,
          38.49,
          24.28,
          28.29,
          44.57,
          28.3,
          14.54,
          39.98,
          28.15,
          32.48,
          25.34,
          17.76,
          24.43,
          17.24,
          18.73,
          11.19,
          16.65,
          44.07,
          43.25,
          10.78,
          14.18,
          34.6,
          13.42,
          36.27,
          21.3,
          37.89,
          24.45,
          13.06,
          18.62,
          22.12,
          41.81,
          21.46,
          28.24,
          32.82,
          12.85,
          10.5,
          27.8,
          44.31,
          36.11,
          41.88,
          42,
          43.39,
          44.74,
          39.97,
          20.29,
          44.41,
          31.12,
          42.45,
          36.24,
          10.78,
          20.83,
          38.31,
          24.73,
          14.48,
          40.75,
          18.62,
          27.77,
          34.2,
          20.2,
          38.39,
          28.76,
          39.93,
          35.81,
          42.89,
          11.29,
          12.09,
          28.61,
          27.7,
          31.03,
          22.02,
          43.36,
          13.62,
          41.31,
          10.9,
          19.4,
          28.38,
          37.58,
          12.73,
          20.54,
          35.11,
          15.76,
          43.68,
          43.3,
          29.84,
          24.43,
          41.04,
          43.62,
          32.98,
          25.13,
          25.35,
          25.24,
          10.83,
          35.84,
          33.37,
          10.34,
          34.83,
          23.88,
          15.46,
          27.71,
          31.61,
          15.91,
          27.85,
          19.46,
          31.37,
          36.54,
          39.7,
          39.49,
          16.73,
          44.98,
          15.77,
          18.24,
          32.28,
          25.25,
          18.66,
          33.28,
          14.77,
          44.68,
          12.77,
          39.89,
          18.81,
          42.59,
          41.08,
          14.97,
          20.2,
          10.56,
          30.36,
          27.55,
          37.55,
          16.87,
          32.51,
          17.96,
          13.8,
          20.62,
          41.27,
          14.44,
          37.16,
          38.52,
          35.71,
          13.02,
          27,
          41.67,
          26.72,
          33.02,
          13.75,
          11.76,
          43.17,
          19.82,
          25.24,
          31.24,
          30.96,
          38.89,
          11.08,
          41.72,
          44.39,
          31.27,
          24.97,
          25.27,
          36.43,
          11.59,
          39.78,
          36.66,
          24.77,
          29.44,
          39.04,
          31.72,
          20.68,
          41.63,
          39.55,
          11.32,
          40.2,
          26.51,
          42.5,
          39.64,
          24.53,
          15.88,
          33.21,
          43.29,
          14.6,
          38.8,
          24.38,
          33.63,
          36.41,
          37.18,
          17.45,
          26.67,
          32.66,
          18.19,
          37.9,
          17.81,
          12.67,
          34.73,
          35.03,
          28.62,
          31.88,
          34.77,
          36.3,
          15.33,
          12.37,
          18.45,
          25.07,
          26.42,
          32,
          32.55,
          22.4,
          11.4,
          24.18,
          37.94,
          13.86,
          39.94,
          40.61,
          35.06,
          31.04,
          25.28,
          27.76,
          23.47,
          36.3,
          18.47,
          20.67,
          33.11,
          29.49,
          31.54,
          19.13,
          13.5,
          17.49,
          16.42,
          18.6,
          20.97,
          20.13,
          44.84,
          10.29,
          40.79,
          26.68,
          10.42,
          32.26,
          19.48,
          17.49
         ]
        }
       ],
       "layout": {
        "template": {
         "data": {
          "bar": [
           {
            "error_x": {
             "color": "#2a3f5f"
            },
            "error_y": {
             "color": "#2a3f5f"
            },
            "marker": {
             "line": {
              "color": "#E5ECF6",
              "width": 0.5
             },
             "pattern": {
              "fillmode": "overlay",
              "size": 10,
              "solidity": 0.2
             }
            },
            "type": "bar"
           }
          ],
          "barpolar": [
           {
            "marker": {
             "line": {
              "color": "#E5ECF6",
              "width": 0.5
             },
             "pattern": {
              "fillmode": "overlay",
              "size": 10,
              "solidity": 0.2
             }
            },
            "type": "barpolar"
           }
          ],
          "carpet": [
           {
            "aaxis": {
             "endlinecolor": "#2a3f5f",
             "gridcolor": "white",
             "linecolor": "white",
             "minorgridcolor": "white",
             "startlinecolor": "#2a3f5f"
            },
            "baxis": {
             "endlinecolor": "#2a3f5f",
             "gridcolor": "white",
             "linecolor": "white",
             "minorgridcolor": "white",
             "startlinecolor": "#2a3f5f"
            },
            "type": "carpet"
           }
          ],
          "choropleth": [
           {
            "colorbar": {
             "outlinewidth": 0,
             "ticks": ""
            },
            "type": "choropleth"
           }
          ],
          "contour": [
           {
            "colorbar": {
             "outlinewidth": 0,
             "ticks": ""
            },
            "colorscale": [
             [
              0,
              "#0d0887"
             ],
             [
              0.1111111111111111,
              "#46039f"
             ],
             [
              0.2222222222222222,
              "#7201a8"
             ],
             [
              0.3333333333333333,
              "#9c179e"
             ],
             [
              0.4444444444444444,
              "#bd3786"
             ],
             [
              0.5555555555555556,
              "#d8576b"
             ],
             [
              0.6666666666666666,
              "#ed7953"
             ],
             [
              0.7777777777777778,
              "#fb9f3a"
             ],
             [
              0.8888888888888888,
              "#fdca26"
             ],
             [
              1,
              "#f0f921"
             ]
            ],
            "type": "contour"
           }
          ],
          "contourcarpet": [
           {
            "colorbar": {
             "outlinewidth": 0,
             "ticks": ""
            },
            "type": "contourcarpet"
           }
          ],
          "heatmap": [
           {
            "colorbar": {
             "outlinewidth": 0,
             "ticks": ""
            },
            "colorscale": [
             [
              0,
              "#0d0887"
             ],
             [
              0.1111111111111111,
              "#46039f"
             ],
             [
              0.2222222222222222,
              "#7201a8"
             ],
             [
              0.3333333333333333,
              "#9c179e"
             ],
             [
              0.4444444444444444,
              "#bd3786"
             ],
             [
              0.5555555555555556,
              "#d8576b"
             ],
             [
              0.6666666666666666,
              "#ed7953"
             ],
             [
              0.7777777777777778,
              "#fb9f3a"
             ],
             [
              0.8888888888888888,
              "#fdca26"
             ],
             [
              1,
              "#f0f921"
             ]
            ],
            "type": "heatmap"
           }
          ],
          "heatmapgl": [
           {
            "colorbar": {
             "outlinewidth": 0,
             "ticks": ""
            },
            "colorscale": [
             [
              0,
              "#0d0887"
             ],
             [
              0.1111111111111111,
              "#46039f"
             ],
             [
              0.2222222222222222,
              "#7201a8"
             ],
             [
              0.3333333333333333,
              "#9c179e"
             ],
             [
              0.4444444444444444,
              "#bd3786"
             ],
             [
              0.5555555555555556,
              "#d8576b"
             ],
             [
              0.6666666666666666,
              "#ed7953"
             ],
             [
              0.7777777777777778,
              "#fb9f3a"
             ],
             [
              0.8888888888888888,
              "#fdca26"
             ],
             [
              1,
              "#f0f921"
             ]
            ],
            "type": "heatmapgl"
           }
          ],
          "histogram": [
           {
            "marker": {
             "pattern": {
              "fillmode": "overlay",
              "size": 10,
              "solidity": 0.2
             }
            },
            "type": "histogram"
           }
          ],
          "histogram2d": [
           {
            "colorbar": {
             "outlinewidth": 0,
             "ticks": ""
            },
            "colorscale": [
             [
              0,
              "#0d0887"
             ],
             [
              0.1111111111111111,
              "#46039f"
             ],
             [
              0.2222222222222222,
              "#7201a8"
             ],
             [
              0.3333333333333333,
              "#9c179e"
             ],
             [
              0.4444444444444444,
              "#bd3786"
             ],
             [
              0.5555555555555556,
              "#d8576b"
             ],
             [
              0.6666666666666666,
              "#ed7953"
             ],
             [
              0.7777777777777778,
              "#fb9f3a"
             ],
             [
              0.8888888888888888,
              "#fdca26"
             ],
             [
              1,
              "#f0f921"
             ]
            ],
            "type": "histogram2d"
           }
          ],
          "histogram2dcontour": [
           {
            "colorbar": {
             "outlinewidth": 0,
             "ticks": ""
            },
            "colorscale": [
             [
              0,
              "#0d0887"
             ],
             [
              0.1111111111111111,
              "#46039f"
             ],
             [
              0.2222222222222222,
              "#7201a8"
             ],
             [
              0.3333333333333333,
              "#9c179e"
             ],
             [
              0.4444444444444444,
              "#bd3786"
             ],
             [
              0.5555555555555556,
              "#d8576b"
             ],
             [
              0.6666666666666666,
              "#ed7953"
             ],
             [
              0.7777777777777778,
              "#fb9f3a"
             ],
             [
              0.8888888888888888,
              "#fdca26"
             ],
             [
              1,
              "#f0f921"
             ]
            ],
            "type": "histogram2dcontour"
           }
          ],
          "mesh3d": [
           {
            "colorbar": {
             "outlinewidth": 0,
             "ticks": ""
            },
            "type": "mesh3d"
           }
          ],
          "parcoords": [
           {
            "line": {
             "colorbar": {
              "outlinewidth": 0,
              "ticks": ""
             }
            },
            "type": "parcoords"
           }
          ],
          "pie": [
           {
            "automargin": true,
            "type": "pie"
           }
          ],
          "scatter": [
           {
            "marker": {
             "colorbar": {
              "outlinewidth": 0,
              "ticks": ""
             }
            },
            "type": "scatter"
           }
          ],
          "scatter3d": [
           {
            "line": {
             "colorbar": {
              "outlinewidth": 0,
              "ticks": ""
             }
            },
            "marker": {
             "colorbar": {
              "outlinewidth": 0,
              "ticks": ""
             }
            },
            "type": "scatter3d"
           }
          ],
          "scattercarpet": [
           {
            "marker": {
             "colorbar": {
              "outlinewidth": 0,
              "ticks": ""
             }
            },
            "type": "scattercarpet"
           }
          ],
          "scattergeo": [
           {
            "marker": {
             "colorbar": {
              "outlinewidth": 0,
              "ticks": ""
             }
            },
            "type": "scattergeo"
           }
          ],
          "scattergl": [
           {
            "marker": {
             "colorbar": {
              "outlinewidth": 0,
              "ticks": ""
             }
            },
            "type": "scattergl"
           }
          ],
          "scattermapbox": [
           {
            "marker": {
             "colorbar": {
              "outlinewidth": 0,
              "ticks": ""
             }
            },
            "type": "scattermapbox"
           }
          ],
          "scatterpolar": [
           {
            "marker": {
             "colorbar": {
              "outlinewidth": 0,
              "ticks": ""
             }
            },
            "type": "scatterpolar"
           }
          ],
          "scatterpolargl": [
           {
            "marker": {
             "colorbar": {
              "outlinewidth": 0,
              "ticks": ""
             }
            },
            "type": "scatterpolargl"
           }
          ],
          "scatterternary": [
           {
            "marker": {
             "colorbar": {
              "outlinewidth": 0,
              "ticks": ""
             }
            },
            "type": "scatterternary"
           }
          ],
          "surface": [
           {
            "colorbar": {
             "outlinewidth": 0,
             "ticks": ""
            },
            "colorscale": [
             [
              0,
              "#0d0887"
             ],
             [
              0.1111111111111111,
              "#46039f"
             ],
             [
              0.2222222222222222,
              "#7201a8"
             ],
             [
              0.3333333333333333,
              "#9c179e"
             ],
             [
              0.4444444444444444,
              "#bd3786"
             ],
             [
              0.5555555555555556,
              "#d8576b"
             ],
             [
              0.6666666666666666,
              "#ed7953"
             ],
             [
              0.7777777777777778,
              "#fb9f3a"
             ],
             [
              0.8888888888888888,
              "#fdca26"
             ],
             [
              1,
              "#f0f921"
             ]
            ],
            "type": "surface"
           }
          ],
          "table": [
           {
            "cells": {
             "fill": {
              "color": "#EBF0F8"
             },
             "line": {
              "color": "white"
             }
            },
            "header": {
             "fill": {
              "color": "#C8D4E3"
             },
             "line": {
              "color": "white"
             }
            },
            "type": "table"
           }
          ]
         },
         "layout": {
          "annotationdefaults": {
           "arrowcolor": "#2a3f5f",
           "arrowhead": 0,
           "arrowwidth": 1
          },
          "autotypenumbers": "strict",
          "coloraxis": {
           "colorbar": {
            "outlinewidth": 0,
            "ticks": ""
           }
          },
          "colorscale": {
           "diverging": [
            [
             0,
             "#8e0152"
            ],
            [
             0.1,
             "#c51b7d"
            ],
            [
             0.2,
             "#de77ae"
            ],
            [
             0.3,
             "#f1b6da"
            ],
            [
             0.4,
             "#fde0ef"
            ],
            [
             0.5,
             "#f7f7f7"
            ],
            [
             0.6,
             "#e6f5d0"
            ],
            [
             0.7,
             "#b8e186"
            ],
            [
             0.8,
             "#7fbc41"
            ],
            [
             0.9,
             "#4d9221"
            ],
            [
             1,
             "#276419"
            ]
           ],
           "sequential": [
            [
             0,
             "#0d0887"
            ],
            [
             0.1111111111111111,
             "#46039f"
            ],
            [
             0.2222222222222222,
             "#7201a8"
            ],
            [
             0.3333333333333333,
             "#9c179e"
            ],
            [
             0.4444444444444444,
             "#bd3786"
            ],
            [
             0.5555555555555556,
             "#d8576b"
            ],
            [
             0.6666666666666666,
             "#ed7953"
            ],
            [
             0.7777777777777778,
             "#fb9f3a"
            ],
            [
             0.8888888888888888,
             "#fdca26"
            ],
            [
             1,
             "#f0f921"
            ]
           ],
           "sequentialminus": [
            [
             0,
             "#0d0887"
            ],
            [
             0.1111111111111111,
             "#46039f"
            ],
            [
             0.2222222222222222,
             "#7201a8"
            ],
            [
             0.3333333333333333,
             "#9c179e"
            ],
            [
             0.4444444444444444,
             "#bd3786"
            ],
            [
             0.5555555555555556,
             "#d8576b"
            ],
            [
             0.6666666666666666,
             "#ed7953"
            ],
            [
             0.7777777777777778,
             "#fb9f3a"
            ],
            [
             0.8888888888888888,
             "#fdca26"
            ],
            [
             1,
             "#f0f921"
            ]
           ]
          },
          "colorway": [
           "#636efa",
           "#EF553B",
           "#00cc96",
           "#ab63fa",
           "#FFA15A",
           "#19d3f3",
           "#FF6692",
           "#B6E880",
           "#FF97FF",
           "#FECB52"
          ],
          "font": {
           "color": "#2a3f5f"
          },
          "geo": {
           "bgcolor": "white",
           "lakecolor": "white",
           "landcolor": "#E5ECF6",
           "showlakes": true,
           "showland": true,
           "subunitcolor": "white"
          },
          "hoverlabel": {
           "align": "left"
          },
          "hovermode": "closest",
          "mapbox": {
           "style": "light"
          },
          "paper_bgcolor": "white",
          "plot_bgcolor": "#E5ECF6",
          "polar": {
           "angularaxis": {
            "gridcolor": "white",
            "linecolor": "white",
            "ticks": ""
           },
           "bgcolor": "#E5ECF6",
           "radialaxis": {
            "gridcolor": "white",
            "linecolor": "white",
            "ticks": ""
           }
          },
          "scene": {
           "xaxis": {
            "backgroundcolor": "#E5ECF6",
            "gridcolor": "white",
            "gridwidth": 2,
            "linecolor": "white",
            "showbackground": true,
            "ticks": "",
            "zerolinecolor": "white"
           },
           "yaxis": {
            "backgroundcolor": "#E5ECF6",
            "gridcolor": "white",
            "gridwidth": 2,
            "linecolor": "white",
            "showbackground": true,
            "ticks": "",
            "zerolinecolor": "white"
           },
           "zaxis": {
            "backgroundcolor": "#E5ECF6",
            "gridcolor": "white",
            "gridwidth": 2,
            "linecolor": "white",
            "showbackground": true,
            "ticks": "",
            "zerolinecolor": "white"
           }
          },
          "shapedefaults": {
           "line": {
            "color": "#2a3f5f"
           }
          },
          "ternary": {
           "aaxis": {
            "gridcolor": "white",
            "linecolor": "white",
            "ticks": ""
           },
           "baxis": {
            "gridcolor": "white",
            "linecolor": "white",
            "ticks": ""
           },
           "bgcolor": "#E5ECF6",
           "caxis": {
            "gridcolor": "white",
            "linecolor": "white",
            "ticks": ""
           }
          },
          "title": {
           "x": 0.05
          },
          "xaxis": {
           "automargin": true,
           "gridcolor": "white",
           "linecolor": "white",
           "ticks": "",
           "title": {
            "standoff": 15
           },
           "zerolinecolor": "white",
           "zerolinewidth": 2
          },
          "yaxis": {
           "automargin": true,
           "gridcolor": "white",
           "linecolor": "white",
           "ticks": "",
           "title": {
            "standoff": 15
           },
           "zerolinecolor": "white",
           "zerolinewidth": 2
          }
         }
        },
        "title": {
         "text": "📊 Selected Product Cost Distribution"
        }
       }
      },
      "text/html": [
       "<div>                            <div id=\"a9c9acd7-f603-498b-8f8e-6c322e8eb27f\" class=\"plotly-graph-div\" style=\"height:525px; width:100%;\"></div>            <script type=\"text/javascript\">                require([\"plotly\"], function(Plotly) {                    window.PLOTLYENV=window.PLOTLYENV || {};                                    if (document.getElementById(\"a9c9acd7-f603-498b-8f8e-6c322e8eb27f\")) {                    Plotly.newPlot(                        \"a9c9acd7-f603-498b-8f8e-6c322e8eb27f\",                        [{\"labels\":[\"Chocolate Sandwich Cookies\",\"All-Seasons Salt\",\"Robust Golden Unsweetened Oolong Tea\",\"Smart Ones Classic Favorites Mini Rigatoni With Vodka Cream Sauce\",\"Sparkling Orange Juice & Prickly Pear Beverage\",\"Peach Mango Juice\",\"Chocolate Fudge Layer Cake\",\"Mint Chocolate Flavored Syrup\",\"Gluten Free Quinoa Three Cheese & Mushroom Blend\",\"Pomegranate Cranberry & Aloe Vera Enrich Drink\",\"Complete Spring Water Foaming Antibacterial Hand Wash\",\"Fresh Cut Golden Sweet No Salt Added Whole Kernel Corn\",\"Three Cheese Ziti, Marinara with Meatballs\",\"Nacho Cheese White Bean Chips\",\"Organic Spaghetti Style Pasta\",\"Peanut Butter Cereal\",\"Italian Herb Porcini Mushrooms Chicken Sausage\",\"Ultra Antibacterial Dish Liquid\",\"Daily Tangerine Citrus Flavored Beverage\",\"Beef Hot Links Beef Smoked Sausage With Chile Peppers\",\"Biotin 1000 mcg\",\"Sparkling Raspberry Seltzer\",\"European Cucumber\",\"Vegetarian Grain Meat Sausages Italian - 4 CT\",\"Mirabelle Brut Rose\",\"Whole Leaf Pure Aloe With Lemon Juice\",\"24/7 Performance Cat Litter\",\"Whole Wheat Tortillas\",\"Cheesy Creations Roasted Garlic Parmesan Sauce\",\"Ramen Noodles Soup Chicken Mushroom Flavor\",\"Premium Deli Oven Roasted Turkey Breast\",\"Banana & Sweet Potato Organic Teething Wafers\",\"European Style Spring Mix\",\"Jelly, Blackberry\",\"Pancake Mix, Buttermilk\",\"Vanilla with Almond Milk Iced Coffee\",\"Organic Honeycrisp Apples\",\"Coconut Chocolate Chip Energy Bar\",\"Nutter Butter Cookie Bites Go-Pak\",\"Wild Albacore Tuna No Salt Added\",\"French  Tarragon Wine Vinegar\",\"Blakes Chicken Parmesan Dinner\",\"All Natural 100% Apple Juice\",\"100% Whole Wheat Pita Bread\",\"Lamb Shank\",\"Soppressata Piccante\",\"Camilia, Single Liquid Doses\",\"Classics Earl Grey Tea\",\"Probiotics High Potency Capsules\",\"Yogurt Fruit Dip Sliced Apples\",\"Smorz Cereal\",\"Meat In The Middle Large Rawhide Chews\",\"Organic Blueberry Blitz Fruit & Veggie Smoothie Mashups\",\"Organic Rice Vinegar\",\"Organic Chamomile Lemon Tea\",\"Bread, Healthy Whole Grain\",\"Easy Grab 9\\\\\\\"x13\\\\\\\" Oblong Glass Bakeware\",\"Mild Salsa Divino\",\"Organic Sprouted Barley Bread\",\"Grape Leaf Hummus Wrap\",\"Hot Tomatillo Salsa\",\"Scooby-Doo! Fruit Flavored Snacks\",\"English Muffins\",\"Sharp Cheddar\",\"Pomegranate Molasses\",\"Sherry Reserve Vinegar\",\"Herbal Armor DEET-Free Natural Insect Repellant\",\"Hot & Spicy Chicken Flavor Ramen Noodles\",\"Marscapone\",\"Vanilla Milk Chocolate Almond Ice Cream Bars Multi-Pack\",\"Stain Release Boost In-Wash Stain Remover Pacs\",\"Simple\",\"Very Vanilla Soymilk\",\"Olli Napoli Salami\",\"Organic Lemons\",\"Coarse Grind Garlic Powder & Parsley Blend\",\"Traditional Water Crackers\",\"Anti Diarrheal Caplets\",\"Nectarines\",\"Wild Blueberry All Natural Fruit Spread\",\"Brut Ros\\u00e9\",\"Fabric Refresher Meadows & Rain Air Freshener (1 Count, 27 oz)  Air Care\",\"Calcium Adult Gummy Vitamins, Orange Cherry & Strawberry\",\"Hacho Miso Aged & Fermented Soybeans\",\"Peanut Butter Cacao Quinoa Clusters\",\"Garlic Parmesan Pita Bread Chips\",\"Sparkling Blush Grape Juice\",\"Halves & Pieces Walnuts\",\"Single Herbs Ginkgo Leaf Dietary Supplement\",\"Habanero Lime Shrimp Flavor Ramen Noodle Soup\",\"Vanishing Acne Treatment Cream\",\"T Bone Steak\",\"Citrus Terere Yerba Mate\",\"Vegan Santa Fe Style Flour Tortilla Rolled Tacos\",\"Penne Rigate With Spinach\",\"Simply Beyond Black Bean Tortilla Chips\",\"Chicken Nugget Meal\",\"Mild El Nino Salsa\",\"Classic Culinary Low Sodium Vegetable Broth\",\"fruitwater\\u00ae Strawberry Kiwi Sparkling Water\",\"Sloppy Joe\",\"Spinach & Feta Pierogi\",\"Rescue Remedy, Spray\",\"Chocolate Mint Cookie Crunch Nutrition Bar\",\"Minis Candy Bars\",\"Organic Blue Corn Sea Salt Tortilla Chips\",\"Argan Oil of Morocco Renewing Weightless Healing Dry Oil Hair Oil\",\"Gluten Free Oatmeal, Variety Pack\",\"6\\\\\\\" Organic Carrot Cake\",\"Cayenne Lemonade Made With Raw Tristate Honey\",\"Kiwi Strawberry Sparkling Water\",\"Foaming Hand Soap Kid Watermelon\",\"Shaved Parmesan Cheese\",\"EcoNet Recycled Bath Sponge\",\"Vanilla Cream Soda\",\"Low Sodium Turkey\",\"Tennessee Whiskey\",\"Brambleberry Herbal Tea\",\"Alpha-Bits Multigrain Cereal\",\"Chicharrones Picante Flavor Pork Rinds\",\"Nature's Seasons Seasoning Blend\",\"Shrimp with Pasta & Vegetables\",\"Taco Reduced Sodium Seasoning Mix\",\"Poppy Seed Bagels\",\"Pinot Grigio, California, 2010\",\"Extra Strength Melatonin Adult Gummies\",\"Waffles, Red Berry\",\"Organic Vegetable Greens & Greens Juice Blend\",\"Honey Mustard\",\"Island Fruits Fruit Snacks\",\"Key Lime Soda\",\"Vegetable Pot Pie\",\"Imported Italian Solid Light Tuna In Pure Olive Oil\",\"Cantaloupe\",\"Petite Dill Pickles\",\"Red Food Color\",\"Non-Fat Blueberry on the Bottom Greek Yogurt\",\"Glass Storage Container with Green Silicone Protection\",\"Rio Berry\",\"OneZip Storage Bags Quart Size Value Pack\",\"TAI PEI      14OZ.SWEET & SOUR CHKN\",\"Propolis Herbal Supplement\",\"Thin Stackers Brown Rice  Salt Free\",\"Snack Bags\",\"Caramel Sauce\",\"French Vanilla Ice Cream\",\"Instant Mashed Potatoes\",\"Chai Tea Bags\",\"Oh My Cod! Cod Pate and Vegetables Cat Food\",\"Organic Spicy Heirloom Marinara Sauce\",\"Mini Nilla Wafers Munch Pack\",\"Lite Poppy Seed Dressing Lite\",\"Original Sprouted Grains Protein & Fiber Hot Oatmeal\",\"100% Juice No Sugar Added Fruit Punch\",\"Fresh Multi-Purpose Contact Lens Solution\",\"Chewables Extra Strength Cherry Creme - 48 CT\",\"Write Bros Ball Point Pens, Cap-Pen, Medium (1.0 mm), Black Ink\",\"Biotin 10,000mcg Maximum Strength\",\"Gold Potatoes\",\"Advanced Haircare Color Vibrancy Nourishing Shampoo\",\"Crackers, Puffed, Corn, Quinoa & Sesame\",\"Naturals Savory Turkey Breakfast Sausage\",\"Peppermint/Banana Split Variety Pack Frozen Dairy Dessert Cones\",\"Extra Whitening Multi-Benefit Fluoride Toothpaste\",\"Creamy Italian Dressing Marinade\",\"Revive Anti-Perspirant Deodorant\",\"Best Grains Honey & Crunch Oat Bread\",\"Steamfresh Chef's Favorites Lightly Sauced Roasted Red Potatoes & Green Beans\",\"Glycerine Soap, Pure and Natural, Cucumber\",\"Echinacea Goldenseal Alcohol Free Extract\",\"Natural Food Color Packets\",\"Veggie-Style Mini Corn Dogs\",\"Deluxe Sauce Made with 2% Milk Cheese Macaroni & Cheese Dinner\",\"Basil Daly Bar Soap\",\"Sparkling Raspberry Lemonade Water Beverage\",\"Blueberry Kombucha\",\"Eco-Pac Kamut Puffs Cereal\",\"Complete Health Deboned Chicken, Chicken Meal and Rice Cat Food\",\"Organic Whole Peeled Baby Carrots\",\"Extra Strength Berry\",\"Sunflower Bread\",\"Super Slimming Herbal Tea\",\"Mixed 12 Pack Lion's Share Ale\",\"Go Fresh Nutrium Moisture Body Wash Blue Fig & Orange Blossom Scent\",\"Ground Flaxseed With Mixed Berries\",\"White Writing Gel\",\"Vitamin C 1000 Mg Tropical Drink Mix Dietary Supplement\",\"Ultimate Omega 1000 mg Lemon Soft Gels\",\"Juniper Berry Soda\",\"Moisture Rich Sweet Orange & Argan Conditioner\",\"Honey Glazed Carrots\",\"Multigrain Spaghetti Style Pasta\",\"Powerball Quantum Max Shine & Protect Automatic Dishwasher Detergent\",\"Super Dry Beer\",\"Clementine Bag\",\"Toaster Pops Strawberry\",\"Breaded Chicken Breast Tenders\",\"Liquid Drink Mix Blackberry Lemonade\",\"Real Chicken & Veggies Recipe Dog Food\",\"Chocolate Brownie Flavor Protein Bar\",\"Mache Blend\",\"Super Enzymes\",\"OPA Greek Yogurt Ranch Dressing\",\"Aquaphor Healing Ointment\",\"Reg; Organic Apple Cider Vinegar 16 Fl Oz\",\"Vanilla Almond Protein Bar\",\"Almond Glow Almond Body Lotion/Massage Oil\",\"Original Bite Size Candies Natural & Artificial Flavors Fun Size\",\"Holiday Sugar Plum Spice Herbal Tea\",\"Brazilian Keratin & Argan Oil Leave-In Conditioning & Styling Elixir\",\"Dual Action Beta Immune and Anti-Oxidant Effervescent Citrus\",\"Gluten Free Chicken Rustica Pizza\",\"16 oz Cold Cups\",\"International Cafe French Vanilla Mix\",\"Garlic & Herb Fresh Goat Cheese\",\"Mix-Up Flamin' Hot & Cheezy Mix Flavored Snack Mix\",\"Italian Style Panko Breadcrumbs\",\"Everyday Mega Pack Paper Plates\",\"Dark Red Kidney Beans\",\"Born Yesterday Pale Ale\",\"Ice Cream, Cookies & Cream\",\"Vanilla Almond Breeze Almond Milk\",\"Organic Whole Granulation Roasted Buckwheat Groats\",\"Petite Brussels Sprouts\",\"Special K Vanilla Cappuccino Protein Breakfast Shakes\",\"Special Recipe Italian Bread\",\"White Chicken Chili\",\"Chips Ahoy! Chewy Cookies\",\"Chow Mein Thin Noodles\",\"Sleepytime Sinus Soother Herbal Tea\",\"Whole Wheat Fig Bar\",\"Fiber 4g Gummy Dietary Supplement\",\"Salt Free Seasoning\",\"100% Natural Just Peaches\",\"Old Fashioned Vegetable Beef Soup\",\"Soup, Lower Sodium, Organic, Split Pea\",\"Kabocha Squash\",\"Whipping Cream\",\"Lite Beer\",\"Lavender Body Wash\",\"Organic Reposado Tequila\",\"Chub Mackerel\",\"Black Peppercorns\",\"Gentle Clean Foaming Face Cleanser, 6.7 fl oz Female Skin Care\",\"\\\\\\\"Constant Comment\\\\\\\" Decaffeinated Black Tea Blend\",\"Lowfat Raspberry Kefir Probiotic Cultured Milk Smoothie\",\"Dough for Turnover Pastries\",\"Gin Gins Candy\",\"Couscous, Israeli, Garlic Jalapeno\",\"Pure Cane Granulated W/Spout Sugar\",\"Mascarpone Pistachio Caramel Gelato\",\"Non-Scratch Scrub Sponges\",\"Wild Rice Blend\",\"Tikka Masala Curry Sauce\",\"Freeze-Dried Edamame Veggie Snack\",\"Honey Maid Graham Cracker Crumbs\",\"Organic Lowfat Pomegranate Acai Kefir Probiotic Cultured Milk Smoothie\",\"French Rolls\",\"Antioxidant Infusions Brasilia Blueberry\",\"Sweet & Smokey Kansas City Bbq Sauce\",\"Daily Shower Cleaner Ylang Ylang\",\"Biotin & Collagen Shampoo\",\"in Gravy with Carrots Peas & Corn Mashed Potatoes & Meatloaf Nuggets\",\"7UP\",\"Adult Dog Formula Dog Food\",\"Tomato Paste with Basil, Oregano & Garlic Flavor\",\"Belgian Waffles\",\"Kosher Dill Babies\",\"Take Alongs Twist & Seal Liquid Storage\",\"Tri Color Tortilla Strips\",\"Beef Strips Portabella Complete Meals\",\"with Dawn Action Pacs Fresh Scent Dishwasher Detergent Pacs\",\"Rice & Bean Snack Chips With Adzuki Beans Chipotle Cheese\",\"Creamy Danish Blue Cheese Wedge\",\"Tomatillo Salsa\",\"1000 Roses Floral Toner for Sensitive Skin\",\"Granola, Veritas, Organic\",\"Riesling, Mosel, 2014\",\"BBQ Concentrate & Marinade Sauce\",\"Turkey Chili\",\"Even The Kitchen Sink Kitchen & Bath Scrubber\",\"Bake & Break Cheese Garlic Loaf\",\"Red Seedless Grapes Imported\",\"Cookie Chips Crunchy Dark Chocolate Chocolate Chip Cookies\",\"Tea Temples Green Tea With Mint\",\"Traditional Tartar Sauce\",\"Pure Moringa Vegetable Powder\",\"Organic Thin Sliced 100% Whole Wheat Bread\",\"Golden Cupcakes 8 Pack\",\"White Chicken Chili with Beans Pouch\",\"Thin & Crispy Crust Pepperoni Pizza\",\"Red Roses\",\"Crunch Vanilla Sugar Mini Cookies\",\"Liqui-Gels Softgels Dye-Free Allergy\",\"Washington State Merlot\",\"Garnet Sweet Potato (Yam)\",\"Lite Whipped Topping\",\"Vanilla Incense of Auroville\",\"Organic Blueberry Pomegranate Whole Milk Yogurt\",\"Air Effects Gain Island Fresh\",\"Salsa Roja\",\"Almonds Roasted and Salted\",\"Oreo Cookies and Cream Chocolate Frozen Dairy Dessert\",\"Dailyfoods Vitamin D-3 2000 IU\",\"Floor Care Tile & Vinyl Floor Finish Clean Scent\",\"Organic Crunchy Slaw Americana Salad\",\"NasaFlo Neti Pot Sinus Relief with Premixed\",\"Goober Strawberry\",\"Clarified Lime Juice\",\"Mac & Cheezy Ravioli For Kids\",\"Uncured Hard Salami\",\"Rice, Extra Long Grain, Enriched\",\"Infinity Always Infinity Size 2 Super Pads with Wings, Unscented, 16 ct Feminine Care\",\"Plain Dairy-Free Probiotic Drinkable Cashewgurt\",\"Supreme Pretzel Crackers\",\"Silken Tofu\",\"Apple Sparkling Juice Beverage\",\"Norwegian Salmon Oil Omega-3s EPA & DHA Dietary Supplement Soft Gels 1000 mg\",\"98% Fat Free Cream Of Chicken Soup\",\"Fudge Brownies with English Walnuts\",\"Fun Size Snacks\",\"Low Fat Honey Graham Crackers\",\"Fresh Oj\",\"Snack Size Candy\",\"Original Puffcorn\",\"Little Bites Snickerdoodle Muffins\",\"Won Ton Wrappers\",\"Cheddar Cheese Curds\",\"Three Cheese Ravioli\",\"Kidney Beans, Dark, Premium\",\"Organic Southwestern Vegetable Soup\",\"Organic Fruit Punch\",\"Elbow Macaroni\",\"Classic coke\",\"Pop'n Hot! Vegan Broccoli Poppers\",\"Organic Salted Butter\",\"Flax, Oat Bran & Whole Wheat Flour Tortillas\",\"Ultra Thin Super Long with Wings Pads\",\"Fettucine Paglia & Fieno Enriched Egg Pasta\",\"Keebler Sandies Cashew 12.8 Oz\",\"Foldit Flatbreads Artisan Rosemary & Olive Oil\",\"Pico De Gallo\",\"Cream Style Corn\",\"The Santa Cruz Burrito\",\"Coconut Drink, Vanilla\",\"Vegan Shells & Creamy Sauce Mac & Cheese Macaroni & Cheese Organic\",\"Double Berry Cheesecake\",\"Chicken Base\",\"Sponge Blossoms\",\"Thin Cakes, Puffed Multigrain\",\"Sunset Blush\",\"Peach Aloe Vera Drink\",\"Acne Dote Clean 'n Treat Towellettes\",\"Whole Wheat Mini Toasts\",\"Cruisers Diapers Jumbo Pack - Size 5\",\"Town House Sea Salt & Olive Oil Flatbread Crisps\",\"Organic Elmo Vegetable Soup\",\"Organic Porcini Mushroom Risotto\",\"Tea Tree + Sea Buckthorn Calming Shampoo\",\"Cocktail Time Hummus\",\"Vegetable Hearty Garden Soup\",\"Skirt Steak\",\"Diet Dr Pepper Bottles\",\"Tea Tree Replenishing Shampoo\",\"Jet Fuel Dark Roast Whole Bean Coffee\",\"Blueberry Blast Bar\",\"Traditional No Fat Refried Beans\",\"Outlast Xtend Clean Lavender Invisible Solid\",\"Unscented Regular Sleek Tampons\",\"Soft Eating Mango Flavor Liquorice\",\"Garlic Barrel Pickles\",\"Traditional Chicken Tuscany Soup\",\"Artisan Spiced Pecan Turtle Ice Cream\",\"Movie Theater Butter Pop Corn\",\"Gluten-Free Boom Chicka Pop Sweet & Spicy Popcorn\",\"Wraps, Turmeric\",\"Wild Mushroom Vegetarian Quarter Loaf\",\"Salame All Natural Uncured Pepperoni\",\"Four Cheese Pizza Frozen Sandwiches\",\"Beer, IPA\",\"Bean Threads\",\"Organic Raw Coconut Aminos\",\"Dark Chocolate Bar 68% Cacao\",\"Skim Milk sharp Cheddar Cheese Singles\",\"Malt Vinegar & Sea Salt Kettle Cooked Potato Chips\",\"Premium Deli Hard Salami\",\"Pain Reliever and Fever Reducer Cherry Infant Drops\",\"Tidy Cats 4-in-1 Strength Cat Litter\",\"100% Columbian Coffee\",\"Lemonade Flavor Drink Mix\",\"Classic Butter Microwave Popcorn\",\"Swaddlers Diapers Jumbo Pack Size Newborn\",\"Refried Beans Vegetarian\",\"Organic Fiber Fruit Blend\",\"Preference Fade-Defying Color + Shine System 9.5NB Lightest Natural Blonde\",\"Double Control Small Roach Baits Insecticide\",\"Organic 100% Whole Wheat Rigatoni\",\"Fruit Salad Gummi Candy\",\"Teensy Fruits Baby Fruit Snacks Berry\",\"Cat Treats Hair Ball Control Chicken\",\"Breadstick\",\"Organic Shredded Mild Cheddar\",\"Mega Mag\",\"Organic Vegetable Tray\",\"Coconut Lime Lip Balm\",\"XXX Acai Blueberry Pomegranate\",\"Garbanzo Beans\",\"Creamy Chocolate Sugar Free Powder Coffee Creamer\",\"Advanced Care Skin Renew Anti-Perspirant Deodorant\",\"Organic Super Berry Juice\",\"Heirloom Boysenberries\",\"Vitamin D3 1000 I.U Vegetable Capsules\",\"Wild Raspberry Hibiscus Caffiene Free Herbal Tea Bags\",\"Bolani Pumpkin Filled Flatbread\",\"Chocolate Decorating Cookie Icing\",\"Trix Cotton Candy Yogurt\",\"Orange Flavored Sports Drink\",\"Calcium Lime & Rust Remover\",\"3rd Foods Chicken Noodle Dinner\",\"Micro Craft Beer\",\"Refreshing Ocean Breeze Body Wash\",\"Original No-Stick Cooking Spray\",\"Albacore Chunk White Tuna in Water\",\"Compleats Good Mornings Bacon Breakfast Scramble\",\"Skinny Wheat Buns\",\"Single Classic Canned Meat\",\"Lemon Verbena Bar Soap\",\"Sliced Onion Bagels\",\"Glass Bottles\",\"Thick Cut Italian 7-Herb Blend Crispbreads\",\"Mountain Stream Fabric Softener\",\"Polska Kielbasa\",\"NyQuil Severe Cold & Flu\",\"Cat Food, Premium, Adult Cat Formula\",\"Blueberry & Banana Tiny Fruits Freeze Dried Snacks\",\"Chile Con Queso Potato Crisps\",\"Crunchy Granola Bars Variety Pack\",\"Traditional Red Miso\",\"Clamato Chelada Beer\",\"Grilled Asparagus\",\"2-Ply Everyday Napkins\",\"Chicago Steak & Chop Cracked Pepper & Garlic Blend\",\"Unsweetened Original Organic Soy Non-Dairy Beverage\",\"ArtiHearts Fresh Grilled Artichokes\",\"Stainless Steel Strainer\",\"Automatic Toilet Bowl Cleaner Bleach & Blue Rain Clean Scent Pack\",\"Cleanse & Replenish 2-in-1 Shampoo\",\"Rose & Apricot Hair Milk\",\"Power Greens\",\"Graduates Lil' Meals Spaghetti Rings In Meat Sauce\",\"Ginger Berry Kombucha\",\"Vitamin B6 100 mg\",\"Ultra-Filtered Whole Milk\",\"Moisturizing Lavender Body Wash\",\"Fingerling Potato\",\"Peanut Butter Chocolate Chip Bar\",\"Dried Parsley Flakes\",\"Lunchmakers Pizza Pepperoni with Nestle Crunch Bar\",\"Clean Freak Refreshing Dry Shampoo\",\"Oatnut Bread\",\"White Tea Lavender Probiotic Kefir Water No. 2\",\"Vitamin E Oil 45,000 IU\",\"Greek 100 Calories Vanilla Fat Free Yogurt\",\"Saucy Ginger Mandarin Dressing\",\"Colby Jack Cheese Slices\",\"Fava Crisps, Santa Barbara Ranch\",\"Gluten Free Sugar Cones\",\"Chamomilla 30 C\",\"Protein Shake, Organic, Banana Creme\",\"Dry Pasta Lasagne\",\"Light Brie Soft-Ripened Cheese Mini-Wheel\",\"Apricot Fruit Roll\",\"Coconut Yogurt\",\"Black Salt Caramel Dark Chocolate Bar\",\"Country Fresh Old Fashioned Horseradish\",\"Southern Style Diced Hash Brown Potatoes\",\"Crispy Thin Crust White Pizza\",\"Cabernet Sauvignon, Central Coast, 2011\",\"ULTRACLEAN\\u2122 Cool Mint ULTRACLEAN\\u2122\",\"Premium Apple Juice\",\"Butterfinger Smooth & Crunchy Peanut Butter Cups\",\"Buffalo Style Chicken Strips\",\"Annie's Bunny Fruit Snacks Variety\",\"Bathroom Tissue\",\"Echinacea & Elderberry Organic Herbal Tea\",\"Vanilla Orange Swirl Ice Cream\",\"Seasonal Oikos Greek Yogurt\",\"Sensitive Shave Gel with Aloe\",\"Vitamin D3 Cholecalciferol Softgels\",\"Plain Fat Free Yogurt\",\"Key Lime Moisture Shave\",\"Almond Extract\",\"Chicken & Vegetable Stir Fry Caf\\u00e9 Steamers\",\"Grape Sunflower Butter Sunwiches\",\"Maxtra Cartridge Water Filter Refills\",\"Gluten Free Soft & Chewy Snicker Doodle Cookies\",\"Petite Green Peas\",\"Chicken Alfredo with Rotini\",\"Linguine No 7 Pasta\",\"8 X 6 Cutting Board\",\"Organic 54% Cocoa Dark Chocolate Bar\",\"Creamy Vanilla Soy Milk Frozen Dessert\",\"Deli Spicy Brown Mustard\",\"Mallow Oats Cereals\",\"Garlic Naan\",\"Strawberry Pomegranate\",\"Cucumber Witch Hazel With Aloe Vera\",\"Crushed Pineapple in 100% Juice\",\"Cranberrry  Almond Soft & Chewy Granola Bar\",\"Diced Pancetta\",\"Red Sweet Mini Pepper\",\"Mild Diced Tomatoes with Green Chilis\",\"Honey Cinnamon Nut-Thins  Crackers\",\"Mini Double Chocolate Ice Cream Bars\",\"Original Organic Ville BBQ Sauce\"],\"textinfo\":\"label+percent\",\"values\":[12.56,28.86,25.67,39.6,10.89,29.19,34.19,40.64,37.51,25.22,22.47,40.34,44.71,31.97,12.22,27.62,23.88,21.26,40.83,38.82,28.64,20.07,19.56,33.34,14.4,32.43,24.54,15.15,14.81,42.43,21.83,19.25,30.53,11.65,19.98,23.12,42.04,17.97,17.13,18.28,14.41,18.97,20.33,33.47,44.89,42.18,36.42,10.74,43.19,27.31,19.71,41.84,21.07,24.14,44.58,30.01,10.03,10.41,11.42,12.46,26.78,30.1,36.91,16.87,12.39,28.83,28.72,38.98,13.58,44.0,44.84,10.55,19.22,30.26,20.77,38.36,17.49,37.75,14.92,10.16,13.81,34.25,22.99,41.63,44.08,18.69,44.46,36.3,15.04,34.31,22.23,36.83,29.58,41.21,32.54,40.43,30.14,25.96,12.62,13.24,38.43,32.62,11.34,14.95,26.24,23.03,44.09,37.19,38.47,11.17,30.15,28.01,15.64,11.61,15.24,22.11,26.98,20.44,15.79,39.79,25.32,19.97,40.15,39.12,44.15,33.54,30.15,39.57,22.42,39.26,16.82,43.38,18.63,18.01,15.3,32.92,10.31,10.22,38.71,34.29,37.92,26.97,20.16,21.74,10.04,34.35,23.38,29.04,23.48,41.55,16.22,44.51,17.52,38.18,19.98,18.27,17.78,19.77,29.22,21.29,44.61,21.97,40.91,20.15,17.45,44.82,19.86,34.47,42.3,10.87,34.14,25.44,44.11,40.76,43.43,39.5,17.73,34.78,26.89,10.91,23.05,23.76,27.94,16.37,35.38,25.22,20.3,25.28,19.46,18.65,40.88,37.65,44.19,43.38,39.32,43.95,12.74,33.27,41.83,10.55,35.76,12.24,41.64,32.93,16.09,25.2,20.6,11.41,18.97,40.32,27.44,42.42,36.4,41.3,41.56,14.8,14.6,11.71,30.32,10.3,24.77,22.41,24.08,33.66,12.53,18.59,40.14,17.71,23.82,13.25,41.12,26.5,11.18,12.92,21.28,33.6,21.5,28.98,37.53,30.26,30.08,31.29,21.59,14.62,16.43,19.55,23.06,28.68,21.99,31.16,37.32,17.55,37.06,13.52,40.3,22.37,28.75,39.97,29.25,16.25,40.13,22.91,38.25,35.43,19.34,24.13,35.03,43.06,19.47,41.31,19.43,29.52,11.06,10.83,35.76,28.76,11.53,27.68,15.69,39.06,38.49,24.28,28.29,44.57,28.3,14.54,39.98,28.15,32.48,25.34,17.76,24.43,17.24,18.73,11.19,16.65,44.07,43.25,10.78,14.18,34.6,13.42,36.27,21.3,37.89,24.45,13.06,18.62,22.12,41.81,21.46,28.24,32.82,12.85,10.5,27.8,44.31,36.11,41.88,42.0,43.39,44.74,39.97,20.29,44.41,31.12,42.45,36.24,10.78,20.83,38.31,24.73,14.48,40.75,18.62,27.77,34.2,20.2,38.39,28.76,39.93,35.81,42.89,11.29,12.09,28.61,27.7,31.03,22.02,43.36,13.62,41.31,10.9,19.4,28.38,37.58,12.73,20.54,35.11,15.76,43.68,43.3,29.84,24.43,41.04,43.62,32.98,25.13,25.35,25.24,10.83,35.84,33.37,10.34,34.83,23.88,15.46,27.71,31.61,15.91,27.85,19.46,31.37,36.54,39.7,39.49,16.73,44.98,15.77,18.24,32.28,25.25,18.66,33.28,14.77,44.68,12.77,39.89,18.81,42.59,41.08,14.97,20.2,10.56,30.36,27.55,37.55,16.87,32.51,17.96,13.8,20.62,41.27,14.44,37.16,38.52,35.71,13.02,27.0,41.67,26.72,33.02,13.75,11.76,43.17,19.82,25.24,31.24,30.96,38.89,11.08,41.72,44.39,31.27,24.97,25.27,36.43,11.59,39.78,36.66,24.77,29.44,39.04,31.72,20.68,41.63,39.55,11.32,40.2,26.51,42.5,39.64,24.53,15.88,33.21,43.29,14.6,38.8,24.38,33.63,36.41,37.18,17.45,26.67,32.66,18.19,37.9,17.81,12.67,34.73,35.03,28.62,31.88,34.77,36.3,15.33,12.37,18.45,25.07,26.42,32.0,32.55,22.4,11.4,24.18,37.94,13.86,39.94,40.61,35.06,31.04,25.28,27.76,23.47,36.3,18.47,20.67,33.11,29.49,31.54,19.13,13.5,17.49,16.42,18.6,20.97,20.13,44.84,10.29,40.79,26.68,10.42,32.26,19.48,17.49],\"type\":\"pie\"}],                        {\"template\":{\"data\":{\"bar\":[{\"error_x\":{\"color\":\"#2a3f5f\"},\"error_y\":{\"color\":\"#2a3f5f\"},\"marker\":{\"line\":{\"color\":\"#E5ECF6\",\"width\":0.5},\"pattern\":{\"fillmode\":\"overlay\",\"size\":10,\"solidity\":0.2}},\"type\":\"bar\"}],\"barpolar\":[{\"marker\":{\"line\":{\"color\":\"#E5ECF6\",\"width\":0.5},\"pattern\":{\"fillmode\":\"overlay\",\"size\":10,\"solidity\":0.2}},\"type\":\"barpolar\"}],\"carpet\":[{\"aaxis\":{\"endlinecolor\":\"#2a3f5f\",\"gridcolor\":\"white\",\"linecolor\":\"white\",\"minorgridcolor\":\"white\",\"startlinecolor\":\"#2a3f5f\"},\"baxis\":{\"endlinecolor\":\"#2a3f5f\",\"gridcolor\":\"white\",\"linecolor\":\"white\",\"minorgridcolor\":\"white\",\"startlinecolor\":\"#2a3f5f\"},\"type\":\"carpet\"}],\"choropleth\":[{\"colorbar\":{\"outlinewidth\":0,\"ticks\":\"\"},\"type\":\"choropleth\"}],\"contour\":[{\"colorbar\":{\"outlinewidth\":0,\"ticks\":\"\"},\"colorscale\":[[0.0,\"#0d0887\"],[0.1111111111111111,\"#46039f\"],[0.2222222222222222,\"#7201a8\"],[0.3333333333333333,\"#9c179e\"],[0.4444444444444444,\"#bd3786\"],[0.5555555555555556,\"#d8576b\"],[0.6666666666666666,\"#ed7953\"],[0.7777777777777778,\"#fb9f3a\"],[0.8888888888888888,\"#fdca26\"],[1.0,\"#f0f921\"]],\"type\":\"contour\"}],\"contourcarpet\":[{\"colorbar\":{\"outlinewidth\":0,\"ticks\":\"\"},\"type\":\"contourcarpet\"}],\"heatmap\":[{\"colorbar\":{\"outlinewidth\":0,\"ticks\":\"\"},\"colorscale\":[[0.0,\"#0d0887\"],[0.1111111111111111,\"#46039f\"],[0.2222222222222222,\"#7201a8\"],[0.3333333333333333,\"#9c179e\"],[0.4444444444444444,\"#bd3786\"],[0.5555555555555556,\"#d8576b\"],[0.6666666666666666,\"#ed7953\"],[0.7777777777777778,\"#fb9f3a\"],[0.8888888888888888,\"#fdca26\"],[1.0,\"#f0f921\"]],\"type\":\"heatmap\"}],\"heatmapgl\":[{\"colorbar\":{\"outlinewidth\":0,\"ticks\":\"\"},\"colorscale\":[[0.0,\"#0d0887\"],[0.1111111111111111,\"#46039f\"],[0.2222222222222222,\"#7201a8\"],[0.3333333333333333,\"#9c179e\"],[0.4444444444444444,\"#bd3786\"],[0.5555555555555556,\"#d8576b\"],[0.6666666666666666,\"#ed7953\"],[0.7777777777777778,\"#fb9f3a\"],[0.8888888888888888,\"#fdca26\"],[1.0,\"#f0f921\"]],\"type\":\"heatmapgl\"}],\"histogram\":[{\"marker\":{\"pattern\":{\"fillmode\":\"overlay\",\"size\":10,\"solidity\":0.2}},\"type\":\"histogram\"}],\"histogram2d\":[{\"colorbar\":{\"outlinewidth\":0,\"ticks\":\"\"},\"colorscale\":[[0.0,\"#0d0887\"],[0.1111111111111111,\"#46039f\"],[0.2222222222222222,\"#7201a8\"],[0.3333333333333333,\"#9c179e\"],[0.4444444444444444,\"#bd3786\"],[0.5555555555555556,\"#d8576b\"],[0.6666666666666666,\"#ed7953\"],[0.7777777777777778,\"#fb9f3a\"],[0.8888888888888888,\"#fdca26\"],[1.0,\"#f0f921\"]],\"type\":\"histogram2d\"}],\"histogram2dcontour\":[{\"colorbar\":{\"outlinewidth\":0,\"ticks\":\"\"},\"colorscale\":[[0.0,\"#0d0887\"],[0.1111111111111111,\"#46039f\"],[0.2222222222222222,\"#7201a8\"],[0.3333333333333333,\"#9c179e\"],[0.4444444444444444,\"#bd3786\"],[0.5555555555555556,\"#d8576b\"],[0.6666666666666666,\"#ed7953\"],[0.7777777777777778,\"#fb9f3a\"],[0.8888888888888888,\"#fdca26\"],[1.0,\"#f0f921\"]],\"type\":\"histogram2dcontour\"}],\"mesh3d\":[{\"colorbar\":{\"outlinewidth\":0,\"ticks\":\"\"},\"type\":\"mesh3d\"}],\"parcoords\":[{\"line\":{\"colorbar\":{\"outlinewidth\":0,\"ticks\":\"\"}},\"type\":\"parcoords\"}],\"pie\":[{\"automargin\":true,\"type\":\"pie\"}],\"scatter\":[{\"marker\":{\"colorbar\":{\"outlinewidth\":0,\"ticks\":\"\"}},\"type\":\"scatter\"}],\"scatter3d\":[{\"line\":{\"colorbar\":{\"outlinewidth\":0,\"ticks\":\"\"}},\"marker\":{\"colorbar\":{\"outlinewidth\":0,\"ticks\":\"\"}},\"type\":\"scatter3d\"}],\"scattercarpet\":[{\"marker\":{\"colorbar\":{\"outlinewidth\":0,\"ticks\":\"\"}},\"type\":\"scattercarpet\"}],\"scattergeo\":[{\"marker\":{\"colorbar\":{\"outlinewidth\":0,\"ticks\":\"\"}},\"type\":\"scattergeo\"}],\"scattergl\":[{\"marker\":{\"colorbar\":{\"outlinewidth\":0,\"ticks\":\"\"}},\"type\":\"scattergl\"}],\"scattermapbox\":[{\"marker\":{\"colorbar\":{\"outlinewidth\":0,\"ticks\":\"\"}},\"type\":\"scattermapbox\"}],\"scatterpolar\":[{\"marker\":{\"colorbar\":{\"outlinewidth\":0,\"ticks\":\"\"}},\"type\":\"scatterpolar\"}],\"scatterpolargl\":[{\"marker\":{\"colorbar\":{\"outlinewidth\":0,\"ticks\":\"\"}},\"type\":\"scatterpolargl\"}],\"scatterternary\":[{\"marker\":{\"colorbar\":{\"outlinewidth\":0,\"ticks\":\"\"}},\"type\":\"scatterternary\"}],\"surface\":[{\"colorbar\":{\"outlinewidth\":0,\"ticks\":\"\"},\"colorscale\":[[0.0,\"#0d0887\"],[0.1111111111111111,\"#46039f\"],[0.2222222222222222,\"#7201a8\"],[0.3333333333333333,\"#9c179e\"],[0.4444444444444444,\"#bd3786\"],[0.5555555555555556,\"#d8576b\"],[0.6666666666666666,\"#ed7953\"],[0.7777777777777778,\"#fb9f3a\"],[0.8888888888888888,\"#fdca26\"],[1.0,\"#f0f921\"]],\"type\":\"surface\"}],\"table\":[{\"cells\":{\"fill\":{\"color\":\"#EBF0F8\"},\"line\":{\"color\":\"white\"}},\"header\":{\"fill\":{\"color\":\"#C8D4E3\"},\"line\":{\"color\":\"white\"}},\"type\":\"table\"}]},\"layout\":{\"annotationdefaults\":{\"arrowcolor\":\"#2a3f5f\",\"arrowhead\":0,\"arrowwidth\":1},\"autotypenumbers\":\"strict\",\"coloraxis\":{\"colorbar\":{\"outlinewidth\":0,\"ticks\":\"\"}},\"colorscale\":{\"diverging\":[[0,\"#8e0152\"],[0.1,\"#c51b7d\"],[0.2,\"#de77ae\"],[0.3,\"#f1b6da\"],[0.4,\"#fde0ef\"],[0.5,\"#f7f7f7\"],[0.6,\"#e6f5d0\"],[0.7,\"#b8e186\"],[0.8,\"#7fbc41\"],[0.9,\"#4d9221\"],[1,\"#276419\"]],\"sequential\":[[0.0,\"#0d0887\"],[0.1111111111111111,\"#46039f\"],[0.2222222222222222,\"#7201a8\"],[0.3333333333333333,\"#9c179e\"],[0.4444444444444444,\"#bd3786\"],[0.5555555555555556,\"#d8576b\"],[0.6666666666666666,\"#ed7953\"],[0.7777777777777778,\"#fb9f3a\"],[0.8888888888888888,\"#fdca26\"],[1.0,\"#f0f921\"]],\"sequentialminus\":[[0.0,\"#0d0887\"],[0.1111111111111111,\"#46039f\"],[0.2222222222222222,\"#7201a8\"],[0.3333333333333333,\"#9c179e\"],[0.4444444444444444,\"#bd3786\"],[0.5555555555555556,\"#d8576b\"],[0.6666666666666666,\"#ed7953\"],[0.7777777777777778,\"#fb9f3a\"],[0.8888888888888888,\"#fdca26\"],[1.0,\"#f0f921\"]]},\"colorway\":[\"#636efa\",\"#EF553B\",\"#00cc96\",\"#ab63fa\",\"#FFA15A\",\"#19d3f3\",\"#FF6692\",\"#B6E880\",\"#FF97FF\",\"#FECB52\"],\"font\":{\"color\":\"#2a3f5f\"},\"geo\":{\"bgcolor\":\"white\",\"lakecolor\":\"white\",\"landcolor\":\"#E5ECF6\",\"showlakes\":true,\"showland\":true,\"subunitcolor\":\"white\"},\"hoverlabel\":{\"align\":\"left\"},\"hovermode\":\"closest\",\"mapbox\":{\"style\":\"light\"},\"paper_bgcolor\":\"white\",\"plot_bgcolor\":\"#E5ECF6\",\"polar\":{\"angularaxis\":{\"gridcolor\":\"white\",\"linecolor\":\"white\",\"ticks\":\"\"},\"bgcolor\":\"#E5ECF6\",\"radialaxis\":{\"gridcolor\":\"white\",\"linecolor\":\"white\",\"ticks\":\"\"}},\"scene\":{\"xaxis\":{\"backgroundcolor\":\"#E5ECF6\",\"gridcolor\":\"white\",\"gridwidth\":2,\"linecolor\":\"white\",\"showbackground\":true,\"ticks\":\"\",\"zerolinecolor\":\"white\"},\"yaxis\":{\"backgroundcolor\":\"#E5ECF6\",\"gridcolor\":\"white\",\"gridwidth\":2,\"linecolor\":\"white\",\"showbackground\":true,\"ticks\":\"\",\"zerolinecolor\":\"white\"},\"zaxis\":{\"backgroundcolor\":\"#E5ECF6\",\"gridcolor\":\"white\",\"gridwidth\":2,\"linecolor\":\"white\",\"showbackground\":true,\"ticks\":\"\",\"zerolinecolor\":\"white\"}},\"shapedefaults\":{\"line\":{\"color\":\"#2a3f5f\"}},\"ternary\":{\"aaxis\":{\"gridcolor\":\"white\",\"linecolor\":\"white\",\"ticks\":\"\"},\"baxis\":{\"gridcolor\":\"white\",\"linecolor\":\"white\",\"ticks\":\"\"},\"bgcolor\":\"#E5ECF6\",\"caxis\":{\"gridcolor\":\"white\",\"linecolor\":\"white\",\"ticks\":\"\"}},\"title\":{\"x\":0.05},\"xaxis\":{\"automargin\":true,\"gridcolor\":\"white\",\"linecolor\":\"white\",\"ticks\":\"\",\"title\":{\"standoff\":15},\"zerolinecolor\":\"white\",\"zerolinewidth\":2},\"yaxis\":{\"automargin\":true,\"gridcolor\":\"white\",\"linecolor\":\"white\",\"ticks\":\"\",\"title\":{\"standoff\":15},\"zerolinecolor\":\"white\",\"zerolinewidth\":2}}},\"title\":{\"text\":\"\\ud83d\\udcca Selected Product Cost Distribution\"}},                        {\"responsive\": true}                    ).then(function(){\n",
       "                            \n",
       "var gd = document.getElementById('a9c9acd7-f603-498b-8f8e-6c322e8eb27f');\n",
       "var x = new MutationObserver(function (mutations, observer) {{\n",
       "        var display = window.getComputedStyle(gd).display;\n",
       "        if (!display || display === 'none') {{\n",
       "            console.log([gd, 'removed!']);\n",
       "            Plotly.purge(gd);\n",
       "            observer.disconnect();\n",
       "        }}\n",
       "}});\n",
       "\n",
       "// Listen for the removal of the full notebook cells\n",
       "var notebookContainer = gd.closest('#notebook-container');\n",
       "if (notebookContainer) {{\n",
       "    x.observe(notebookContainer, {childList: true});\n",
       "}}\n",
       "\n",
       "// Listen for the clearing of the current output cell\n",
       "var outputEl = gd.closest('.output');\n",
       "if (outputEl) {{\n",
       "    x.observe(outputEl, {childList: true});\n",
       "}}\n",
       "\n",
       "                        })                };                });            </script>        </div>"
      ]
     },
     "metadata": {},
     "output_type": "display_data"
    }
   ],
   "source": [
    "fig = go.Figure(data=[go.Pie(\n",
    "labels=selected['product_name'],\n",
    "values=selected['price'],\n",
    "textinfo='label+percent'\n",
    ")])\n",
    "fig.update_layout(title=\"📊 Selected Product Cost Distribution\")\n",
    "fig.show()"
   ]
  },
  {
   "cell_type": "code",
   "execution_count": 103,
   "id": "f145aea0",
   "metadata": {},
   "outputs": [],
   "source": [
    "run_button.on_click(on_run_clicked)"
   ]
  },
  {
   "cell_type": "code",
   "execution_count": null,
   "id": "3c7f88e5",
   "metadata": {},
   "outputs": [],
   "source": []
  }
 ],
 "metadata": {
  "kernelspec": {
   "display_name": "Python 3 (ipykernel)",
   "language": "python",
   "name": "python3"
  },
  "language_info": {
   "codemirror_mode": {
    "name": "ipython",
    "version": 3
   },
   "file_extension": ".py",
   "mimetype": "text/x-python",
   "name": "python",
   "nbconvert_exporter": "python",
   "pygments_lexer": "ipython3",
   "version": "3.9.12"
  }
 },
 "nbformat": 4,
 "nbformat_minor": 5
}
